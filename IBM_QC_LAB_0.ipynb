{
  "cells": [
    {
      "cell_type": "markdown",
      "metadata": {
        "id": "view-in-github",
        "colab_type": "text"
      },
      "source": [
        "<a href=\"https://colab.research.google.com/github/12anshuV/my-new-repo/blob/main/IBM_QC_LAB_0.ipynb\" target=\"_parent\"><img src=\"https://colab.research.google.com/assets/colab-badge.svg\" alt=\"Open In Colab\"/></a>"
      ]
    },
    {
      "cell_type": "code",
      "execution_count": null,
      "id": "1d854b37-d8a9-4358-975e-4889de33b5ed",
      "metadata": {
        "colab": {
          "base_uri": "https://localhost:8080/"
        },
        "id": "1d854b37-d8a9-4358-975e-4889de33b5ed",
        "outputId": "c7fad01a-0c5f-4f9f-f6ce-2749ad6e877f"
      },
      "outputs": [
        {
          "output_type": "stream",
          "name": "stdout",
          "text": [
            "Collecting qiskit[visualization]==1.0.2\n",
            "  Downloading qiskit-1.0.2-cp38-abi3-manylinux_2_17_x86_64.manylinux2014_x86_64.whl (5.6 MB)\n",
            "\u001b[2K     \u001b[90m━━━━━━━━━━━━━━━━━━━━━━━━━━━━━━━━━━━━━━━━\u001b[0m \u001b[32m5.6/5.6 MB\u001b[0m \u001b[31m34.0 MB/s\u001b[0m eta \u001b[36m0:00:00\u001b[0m\n",
            "\u001b[?25hCollecting rustworkx>=0.14.0 (from qiskit[visualization]==1.0.2)\n",
            "  Downloading rustworkx-0.14.2-cp310-cp310-manylinux_2_17_x86_64.manylinux2014_x86_64.whl (2.1 MB)\n",
            "\u001b[2K     \u001b[90m━━━━━━━━━━━━━━━━━━━━━━━━━━━━━━━━━━━━━━━━\u001b[0m \u001b[32m2.1/2.1 MB\u001b[0m \u001b[31m55.0 MB/s\u001b[0m eta \u001b[36m0:00:00\u001b[0m\n",
            "\u001b[?25hRequirement already satisfied: numpy<2,>=1.17 in /usr/local/lib/python3.10/dist-packages (from qiskit[visualization]==1.0.2) (1.25.2)\n",
            "Requirement already satisfied: scipy>=1.5 in /usr/local/lib/python3.10/dist-packages (from qiskit[visualization]==1.0.2) (1.11.4)\n",
            "Requirement already satisfied: sympy>=1.3 in /usr/local/lib/python3.10/dist-packages (from qiskit[visualization]==1.0.2) (1.12.1)\n",
            "Collecting dill>=0.3 (from qiskit[visualization]==1.0.2)\n",
            "  Downloading dill-0.3.8-py3-none-any.whl (116 kB)\n",
            "\u001b[2K     \u001b[90m━━━━━━━━━━━━━━━━━━━━━━━━━━━━━━━━━━━━━━━━\u001b[0m \u001b[32m116.3/116.3 kB\u001b[0m \u001b[31m12.8 MB/s\u001b[0m eta \u001b[36m0:00:00\u001b[0m\n",
            "\u001b[?25hRequirement already satisfied: python-dateutil>=2.8.0 in /usr/local/lib/python3.10/dist-packages (from qiskit[visualization]==1.0.2) (2.8.2)\n",
            "Collecting stevedore>=3.0.0 (from qiskit[visualization]==1.0.2)\n",
            "  Downloading stevedore-5.2.0-py3-none-any.whl (49 kB)\n",
            "\u001b[2K     \u001b[90m━━━━━━━━━━━━━━━━━━━━━━━━━━━━━━━━━━━━━━━━\u001b[0m \u001b[32m49.7/49.7 kB\u001b[0m \u001b[31m4.2 MB/s\u001b[0m eta \u001b[36m0:00:00\u001b[0m\n",
            "\u001b[?25hRequirement already satisfied: typing-extensions in /usr/local/lib/python3.10/dist-packages (from qiskit[visualization]==1.0.2) (4.12.1)\n",
            "Collecting symengine>=0.11 (from qiskit[visualization]==1.0.2)\n",
            "  Downloading symengine-0.11.0-cp310-cp310-manylinux_2_12_x86_64.manylinux2010_x86_64.whl (39.4 MB)\n",
            "\u001b[2K     \u001b[90m━━━━━━━━━━━━━━━━━━━━━━━━━━━━━━━━━━━━━━━━\u001b[0m \u001b[32m39.4/39.4 MB\u001b[0m \u001b[31m14.8 MB/s\u001b[0m eta \u001b[36m0:00:00\u001b[0m\n",
            "\u001b[?25hRequirement already satisfied: matplotlib>=3.3 in /usr/local/lib/python3.10/dist-packages (from qiskit[visualization]==1.0.2) (3.7.1)\n",
            "Requirement already satisfied: pydot in /usr/local/lib/python3.10/dist-packages (from qiskit[visualization]==1.0.2) (1.4.2)\n",
            "Requirement already satisfied: Pillow>=4.2.1 in /usr/local/lib/python3.10/dist-packages (from qiskit[visualization]==1.0.2) (9.4.0)\n",
            "Collecting pylatexenc>=1.4 (from qiskit[visualization]==1.0.2)\n",
            "  Downloading pylatexenc-2.10.tar.gz (162 kB)\n",
            "\u001b[2K     \u001b[90m━━━━━━━━━━━━━━━━━━━━━━━━━━━━━━━━━━━━━━━━\u001b[0m \u001b[32m162.6/162.6 kB\u001b[0m \u001b[31m17.1 MB/s\u001b[0m eta \u001b[36m0:00:00\u001b[0m\n",
            "\u001b[?25h  Preparing metadata (setup.py) ... \u001b[?25l\u001b[?25hdone\n",
            "Requirement already satisfied: seaborn>=0.9.0 in /usr/local/lib/python3.10/dist-packages (from qiskit[visualization]==1.0.2) (0.13.1)\n",
            "Requirement already satisfied: contourpy>=1.0.1 in /usr/local/lib/python3.10/dist-packages (from matplotlib>=3.3->qiskit[visualization]==1.0.2) (1.2.1)\n",
            "Requirement already satisfied: cycler>=0.10 in /usr/local/lib/python3.10/dist-packages (from matplotlib>=3.3->qiskit[visualization]==1.0.2) (0.12.1)\n",
            "Requirement already satisfied: fonttools>=4.22.0 in /usr/local/lib/python3.10/dist-packages (from matplotlib>=3.3->qiskit[visualization]==1.0.2) (4.53.0)\n",
            "Requirement already satisfied: kiwisolver>=1.0.1 in /usr/local/lib/python3.10/dist-packages (from matplotlib>=3.3->qiskit[visualization]==1.0.2) (1.4.5)\n",
            "Requirement already satisfied: packaging>=20.0 in /usr/local/lib/python3.10/dist-packages (from matplotlib>=3.3->qiskit[visualization]==1.0.2) (24.0)\n",
            "Requirement already satisfied: pyparsing>=2.3.1 in /usr/local/lib/python3.10/dist-packages (from matplotlib>=3.3->qiskit[visualization]==1.0.2) (3.1.2)\n",
            "Requirement already satisfied: six>=1.5 in /usr/local/lib/python3.10/dist-packages (from python-dateutil>=2.8.0->qiskit[visualization]==1.0.2) (1.16.0)\n",
            "Requirement already satisfied: pandas>=1.2 in /usr/local/lib/python3.10/dist-packages (from seaborn>=0.9.0->qiskit[visualization]==1.0.2) (2.0.3)\n",
            "Collecting pbr!=2.1.0,>=2.0.0 (from stevedore>=3.0.0->qiskit[visualization]==1.0.2)\n",
            "  Downloading pbr-6.0.0-py2.py3-none-any.whl (107 kB)\n",
            "\u001b[2K     \u001b[90m━━━━━━━━━━━━━━━━━━━━━━━━━━━━━━━━━━━━━━━━\u001b[0m \u001b[32m107.5/107.5 kB\u001b[0m \u001b[31m9.5 MB/s\u001b[0m eta \u001b[36m0:00:00\u001b[0m\n",
            "\u001b[?25hRequirement already satisfied: mpmath<1.4.0,>=1.1.0 in /usr/local/lib/python3.10/dist-packages (from sympy>=1.3->qiskit[visualization]==1.0.2) (1.3.0)\n",
            "Requirement already satisfied: pytz>=2020.1 in /usr/local/lib/python3.10/dist-packages (from pandas>=1.2->seaborn>=0.9.0->qiskit[visualization]==1.0.2) (2023.4)\n",
            "Requirement already satisfied: tzdata>=2022.1 in /usr/local/lib/python3.10/dist-packages (from pandas>=1.2->seaborn>=0.9.0->qiskit[visualization]==1.0.2) (2024.1)\n",
            "Building wheels for collected packages: pylatexenc\n",
            "  Building wheel for pylatexenc (setup.py) ... \u001b[?25l\u001b[?25hdone\n",
            "  Created wheel for pylatexenc: filename=pylatexenc-2.10-py3-none-any.whl size=136816 sha256=c0131b6dc271e4de5c4d014b7c08743ffd41ab890f893be7058d66f6d52330c3\n",
            "  Stored in directory: /root/.cache/pip/wheels/d3/31/8b/e09b0386afd80cfc556c00408c9aeea5c35c4d484a9c762fd5\n",
            "Successfully built pylatexenc\n",
            "Installing collected packages: pylatexenc, symengine, rustworkx, pbr, dill, stevedore, qiskit\n",
            "Successfully installed dill-0.3.8 pbr-6.0.0 pylatexenc-2.10 qiskit-1.0.2 rustworkx-0.14.2 stevedore-5.2.0 symengine-0.11.0\n"
          ]
        }
      ],
      "source": [
        "!pip install qiskit[visualization]==1.0.2"
      ]
    },
    {
      "cell_type": "code",
      "execution_count": null,
      "id": "39f1882e-a5d9-4d9c-b2f9-e27de58896d7",
      "metadata": {
        "colab": {
          "base_uri": "https://localhost:8080/"
        },
        "id": "39f1882e-a5d9-4d9c-b2f9-e27de58896d7",
        "outputId": "b78d6189-572c-4b08-d4f7-9f1b71718e83"
      },
      "outputs": [
        {
          "output_type": "execute_result",
          "data": {
            "text/plain": [
              "8"
            ]
          },
          "metadata": {},
          "execution_count": 2
        }
      ],
      "source": [
        "2+6"
      ]
    },
    {
      "cell_type": "code",
      "execution_count": null,
      "id": "d1a6f257-e9e1-4b11-81df-b6538b178ca4",
      "metadata": {
        "colab": {
          "base_uri": "https://localhost:8080/",
          "height": 127
        },
        "id": "d1a6f257-e9e1-4b11-81df-b6538b178ca4",
        "outputId": "f4ffd312-e631-4016-d3a2-15b3a39f1b34"
      },
      "outputs": [
        {
          "output_type": "execute_result",
          "data": {
            "text/plain": [
              "<Figure size 185.453x117.056 with 1 Axes>"
            ],
            "image/png": "[encoded data removed]"
          },
          "metadata": {},
          "execution_count": 3
        }
      ],
      "source": [
        "from qiskit import QuantumCircuit\n",
        "\n",
        "# Create a new circuit with a single qubit\n",
        "qc = QuantumCircuit(1)\n",
        "\n",
        "# Add a Not gate to qubit 0\n",
        "qc.x(0)\n",
        "\n",
        "# Return a drawing of the circuit using MatPlotLib (\"mpl\"). This is the\n",
        "# last line of the cell, so the drawing appears in the cell output.\n",
        "qc.draw(\"mpl\")"
      ]
    },
    {
      "cell_type": "code",
      "execution_count": null,
      "id": "f8e0c00c-da40-4f01-a95c-ac40cd6fdd56",
      "metadata": {
        "colab": {
          "base_uri": "https://localhost:8080/"
        },
        "id": "f8e0c00c-da40-4f01-a95c-ac40cd6fdd56",
        "outputId": "74c3c520-ccbe-4835-d7f4-8e518d67334c"
      },
      "outputs": [
        {
          "output_type": "stream",
          "name": "stdout",
          "text": [
            "Collecting qiskit_aer\n",
            "  Downloading qiskit_aer-0.14.2-cp310-cp310-manylinux_2_17_x86_64.manylinux2014_x86_64.whl (12.4 MB)\n",
            "\u001b[2K     \u001b[90m━━━━━━━━━━━━━━━━━━━━━━━━━━━━━━━━━━━━━━━━\u001b[0m \u001b[32m12.4/12.4 MB\u001b[0m \u001b[31m72.7 MB/s\u001b[0m eta \u001b[36m0:00:00\u001b[0m\n",
            "\u001b[?25hRequirement already satisfied: qiskit>=0.45.2 in /usr/local/lib/python3.10/dist-packages (from qiskit_aer) (1.0.2)\n",
            "Requirement already satisfied: numpy>=1.16.3 in /usr/local/lib/python3.10/dist-packages (from qiskit_aer) (1.25.2)\n",
            "Requirement already satisfied: scipy>=1.0 in /usr/local/lib/python3.10/dist-packages (from qiskit_aer) (1.11.4)\n",
            "Requirement already satisfied: psutil>=5 in /usr/local/lib/python3.10/dist-packages (from qiskit_aer) (5.9.5)\n",
            "Requirement already satisfied: rustworkx>=0.14.0 in /usr/local/lib/python3.10/dist-packages (from qiskit>=0.45.2->qiskit_aer) (0.14.2)\n",
            "Requirement already satisfied: sympy>=1.3 in /usr/local/lib/python3.10/dist-packages (from qiskit>=0.45.2->qiskit_aer) (1.12.1)\n",
            "Requirement already satisfied: dill>=0.3 in /usr/local/lib/python3.10/dist-packages (from qiskit>=0.45.2->qiskit_aer) (0.3.8)\n",
            "Requirement already satisfied: python-dateutil>=2.8.0 in /usr/local/lib/python3.10/dist-packages (from qiskit>=0.45.2->qiskit_aer) (2.8.2)\n",
            "Requirement already satisfied: stevedore>=3.0.0 in /usr/local/lib/python3.10/dist-packages (from qiskit>=0.45.2->qiskit_aer) (5.2.0)\n",
            "Requirement already satisfied: typing-extensions in /usr/local/lib/python3.10/dist-packages (from qiskit>=0.45.2->qiskit_aer) (4.12.1)\n",
            "Requirement already satisfied: symengine>=0.11 in /usr/local/lib/python3.10/dist-packages (from qiskit>=0.45.2->qiskit_aer) (0.11.0)\n",
            "Requirement already satisfied: six>=1.5 in /usr/local/lib/python3.10/dist-packages (from python-dateutil>=2.8.0->qiskit>=0.45.2->qiskit_aer) (1.16.0)\n",
            "Requirement already satisfied: pbr!=2.1.0,>=2.0.0 in /usr/local/lib/python3.10/dist-packages (from stevedore>=3.0.0->qiskit>=0.45.2->qiskit_aer) (6.0.0)\n",
            "Requirement already satisfied: mpmath<1.4.0,>=1.1.0 in /usr/local/lib/python3.10/dist-packages (from sympy>=1.3->qiskit>=0.45.2->qiskit_aer) (1.3.0)\n",
            "Installing collected packages: qiskit_aer\n",
            "Successfully installed qiskit_aer-0.14.2\n",
            "Collecting qiskit_ibm_runtime\n",
            "  Downloading qiskit_ibm_runtime-0.23.0-py3-none-any.whl (3.0 MB)\n",
            "\u001b[2K     \u001b[90m━━━━━━━━━━━━━━━━━━━━━━━━━━━━━━━━━━━━━━━━\u001b[0m \u001b[32m3.0/3.0 MB\u001b[0m \u001b[31m39.3 MB/s\u001b[0m eta \u001b[36m0:00:00\u001b[0m\n",
            "\u001b[?25hRequirement already satisfied: requests>=2.19 in /usr/local/lib/python3.10/dist-packages (from qiskit_ibm_runtime) (2.31.0)\n",
            "Collecting requests-ntlm>=1.1.0 (from qiskit_ibm_runtime)\n",
            "  Downloading requests_ntlm-1.2.0-py3-none-any.whl (6.0 kB)\n",
            "Requirement already satisfied: numpy>=1.13 in /usr/local/lib/python3.10/dist-packages (from qiskit_ibm_runtime) (1.25.2)\n",
            "Requirement already satisfied: urllib3>=1.21.1 in /usr/local/lib/python3.10/dist-packages (from qiskit_ibm_runtime) (2.0.7)\n",
            "Requirement already satisfied: python-dateutil>=2.8.0 in /usr/local/lib/python3.10/dist-packages (from qiskit_ibm_runtime) (2.8.2)\n",
            "Requirement already satisfied: websocket-client>=1.5.1 in /usr/local/lib/python3.10/dist-packages (from qiskit_ibm_runtime) (1.8.0)\n",
            "Collecting ibm-platform-services>=0.22.6 (from qiskit_ibm_runtime)\n",
            "  Downloading ibm-platform-services-0.53.7.tar.gz (323 kB)\n",
            "\u001b[2K     \u001b[90m━━━━━━━━━━━━━━━━━━━━━━━━━━━━━━━━━━━━━━━━\u001b[0m \u001b[32m323.9/323.9 kB\u001b[0m \u001b[31m32.4 MB/s\u001b[0m eta \u001b[36m0:00:00\u001b[0m\n",
            "\u001b[?25h  Installing build dependencies ... \u001b[?25l\u001b[?25hdone\n",
            "  Getting requirements to build wheel ... \u001b[?25l\u001b[?25hdone\n",
            "  Preparing metadata (pyproject.toml) ... \u001b[?25l\u001b[?25hdone\n",
            "Requirement already satisfied: pydantic in /usr/local/lib/python3.10/dist-packages (from qiskit_ibm_runtime) (2.7.3)\n",
            "Requirement already satisfied: qiskit>=1.0.0 in /usr/local/lib/python3.10/dist-packages (from qiskit_ibm_runtime) (1.0.2)\n",
            "Collecting ibm-cloud-sdk-core<4.0.0,>=3.19.2 (from ibm-platform-services>=0.22.6->qiskit_ibm_runtime)\n",
            "  Downloading ibm-cloud-sdk-core-3.20.1.tar.gz (62 kB)\n",
            "\u001b[2K     \u001b[90m━━━━━━━━━━━━━━━━━━━━━━━━━━━━━━━━━━━━━━━━\u001b[0m \u001b[32m62.1/62.1 kB\u001b[0m \u001b[31m7.1 MB/s\u001b[0m eta \u001b[36m0:00:00\u001b[0m\n",
            "\u001b[?25h  Installing build dependencies ... \u001b[?25l\u001b[?25hdone\n",
            "  Getting requirements to build wheel ... \u001b[?25l\u001b[?25hdone\n",
            "  Preparing metadata (pyproject.toml) ... \u001b[?25l\u001b[?25hdone\n",
            "Requirement already satisfied: six>=1.5 in /usr/local/lib/python3.10/dist-packages (from python-dateutil>=2.8.0->qiskit_ibm_runtime) (1.16.0)\n",
            "Requirement already satisfied: rustworkx>=0.14.0 in /usr/local/lib/python3.10/dist-packages (from qiskit>=1.0.0->qiskit_ibm_runtime) (0.14.2)\n",
            "Requirement already satisfied: scipy>=1.5 in /usr/local/lib/python3.10/dist-packages (from qiskit>=1.0.0->qiskit_ibm_runtime) (1.11.4)\n",
            "Requirement already satisfied: sympy>=1.3 in /usr/local/lib/python3.10/dist-packages (from qiskit>=1.0.0->qiskit_ibm_runtime) (1.12.1)\n",
            "Requirement already satisfied: dill>=0.3 in /usr/local/lib/python3.10/dist-packages (from qiskit>=1.0.0->qiskit_ibm_runtime) (0.3.8)\n",
            "Requirement already satisfied: stevedore>=3.0.0 in /usr/local/lib/python3.10/dist-packages (from qiskit>=1.0.0->qiskit_ibm_runtime) (5.2.0)\n",
            "Requirement already satisfied: typing-extensions in /usr/local/lib/python3.10/dist-packages (from qiskit>=1.0.0->qiskit_ibm_runtime) (4.12.1)\n",
            "Requirement already satisfied: symengine>=0.11 in /usr/local/lib/python3.10/dist-packages (from qiskit>=1.0.0->qiskit_ibm_runtime) (0.11.0)\n",
            "Requirement already satisfied: charset-normalizer<4,>=2 in /usr/local/lib/python3.10/dist-packages (from requests>=2.19->qiskit_ibm_runtime) (3.3.2)\n",
            "Requirement already satisfied: idna<4,>=2.5 in /usr/local/lib/python3.10/dist-packages (from requests>=2.19->qiskit_ibm_runtime) (3.7)\n",
            "Requirement already satisfied: certifi>=2017.4.17 in /usr/local/lib/python3.10/dist-packages (from requests>=2.19->qiskit_ibm_runtime) (2024.6.2)\n",
            "Requirement already satisfied: cryptography>=1.3 in /usr/local/lib/python3.10/dist-packages (from requests-ntlm>=1.1.0->qiskit_ibm_runtime) (42.0.7)\n",
            "Collecting pyspnego>=0.1.6 (from requests-ntlm>=1.1.0->qiskit_ibm_runtime)\n",
            "  Downloading pyspnego-0.10.2-py3-none-any.whl (129 kB)\n",
            "\u001b[2K     \u001b[90m━━━━━━━━━━━━━━━━━━━━━━━━━━━━━━━━━━━━━━━━\u001b[0m \u001b[32m129.9/129.9 kB\u001b[0m \u001b[31m16.0 MB/s\u001b[0m eta \u001b[36m0:00:00\u001b[0m\n",
            "\u001b[?25hRequirement already satisfied: annotated-types>=0.4.0 in /usr/local/lib/python3.10/dist-packages (from pydantic->qiskit_ibm_runtime) (0.7.0)\n",
            "Requirement already satisfied: pydantic-core==2.18.4 in /usr/local/lib/python3.10/dist-packages (from pydantic->qiskit_ibm_runtime) (2.18.4)\n",
            "Requirement already satisfied: cffi>=1.12 in /usr/local/lib/python3.10/dist-packages (from cryptography>=1.3->requests-ntlm>=1.1.0->qiskit_ibm_runtime) (1.16.0)\n",
            "Collecting urllib3>=1.21.1 (from qiskit_ibm_runtime)\n",
            "  Downloading urllib3-2.2.1-py3-none-any.whl (121 kB)\n",
            "\u001b[2K     \u001b[90m━━━━━━━━━━━━━━━━━━━━━━━━━━━━━━━━━━━━━━━━\u001b[0m \u001b[32m121.1/121.1 kB\u001b[0m \u001b[31m13.8 MB/s\u001b[0m eta \u001b[36m0:00:00\u001b[0m\n",
            "\u001b[?25hCollecting PyJWT<3.0.0,>=2.8.0 (from ibm-cloud-sdk-core<4.0.0,>=3.19.2->ibm-platform-services>=0.22.6->qiskit_ibm_runtime)\n",
            "  Downloading PyJWT-2.8.0-py3-none-any.whl (22 kB)\n",
            "Requirement already satisfied: pbr!=2.1.0,>=2.0.0 in /usr/local/lib/python3.10/dist-packages (from stevedore>=3.0.0->qiskit>=1.0.0->qiskit_ibm_runtime) (6.0.0)\n",
            "Requirement already satisfied: mpmath<1.4.0,>=1.1.0 in /usr/local/lib/python3.10/dist-packages (from sympy>=1.3->qiskit>=1.0.0->qiskit_ibm_runtime) (1.3.0)\n",
            "Requirement already satisfied: pycparser in /usr/local/lib/python3.10/dist-packages (from cffi>=1.12->cryptography>=1.3->requests-ntlm>=1.1.0->qiskit_ibm_runtime) (2.22)\n",
            "Building wheels for collected packages: ibm-platform-services, ibm-cloud-sdk-core\n",
            "  Building wheel for ibm-platform-services (pyproject.toml) ... \u001b[?25l\u001b[?25hdone\n",
            "  Created wheel for ibm-platform-services: filename=ibm_platform_services-0.53.7-py3-none-any.whl size=340285 sha256=b737ea43148e12a120f0bf704c2d3f06ecaef146752c5f994bf5c5cb6a73c6c3\n",
            "  Stored in directory: /root/.cache/pip/wheels/8e/54/ad/63e8fdae0e85463bc04a21acf5364cff6def892b95dc40f3ed\n",
            "  Building wheel for ibm-cloud-sdk-core (pyproject.toml) ... \u001b[?25l\u001b[?25hdone\n",
            "  Created wheel for ibm-cloud-sdk-core: filename=ibm_cloud_sdk_core-3.20.1-py3-none-any.whl size=101533 sha256=7225c89449e0469e316de40e165ec38a86fff9e2a86018353a095bdf53815229\n",
            "  Stored in directory: /root/.cache/pip/wheels/b1/80/5b/12af32c69e0bde3322cb9c1809952e8ed9f2a2a39509ee5374\n",
            "Successfully built ibm-platform-services ibm-cloud-sdk-core\n",
            "Installing collected packages: urllib3, PyJWT, pyspnego, ibm-cloud-sdk-core, requests-ntlm, ibm-platform-services, qiskit_ibm_runtime\n",
            "  Attempting uninstall: urllib3\n",
            "    Found existing installation: urllib3 2.0.7\n",
            "    Uninstalling urllib3-2.0.7:\n",
            "      Successfully uninstalled urllib3-2.0.7\n",
            "  Attempting uninstall: PyJWT\n",
            "    Found existing installation: PyJWT 2.3.0\n",
            "    Uninstalling PyJWT-2.3.0:\n",
            "      Successfully uninstalled PyJWT-2.3.0\n",
            "Successfully installed PyJWT-2.8.0 ibm-cloud-sdk-core-3.20.1 ibm-platform-services-0.53.7 pyspnego-0.10.2 qiskit_ibm_runtime-0.23.0 requests-ntlm-1.2.0 urllib3-2.2.1\n",
            "Requirement already satisfied: matplotlib in /usr/local/lib/python3.10/dist-packages (3.7.1)\n",
            "Requirement already satisfied: contourpy>=1.0.1 in /usr/local/lib/python3.10/dist-packages (from matplotlib) (1.2.1)\n",
            "Requirement already satisfied: cycler>=0.10 in /usr/local/lib/python3.10/dist-packages (from matplotlib) (0.12.1)\n",
            "Requirement already satisfied: fonttools>=4.22.0 in /usr/local/lib/python3.10/dist-packages (from matplotlib) (4.53.0)\n",
            "Requirement already satisfied: kiwisolver>=1.0.1 in /usr/local/lib/python3.10/dist-packages (from matplotlib) (1.4.5)\n",
            "Requirement already satisfied: numpy>=1.20 in /usr/local/lib/python3.10/dist-packages (from matplotlib) (1.25.2)\n",
            "Requirement already satisfied: packaging>=20.0 in /usr/local/lib/python3.10/dist-packages (from matplotlib) (24.0)\n",
            "Requirement already satisfied: pillow>=6.2.0 in /usr/local/lib/python3.10/dist-packages (from matplotlib) (9.4.0)\n",
            "Requirement already satisfied: pyparsing>=2.3.1 in /usr/local/lib/python3.10/dist-packages (from matplotlib) (3.1.2)\n",
            "Requirement already satisfied: python-dateutil>=2.7 in /usr/local/lib/python3.10/dist-packages (from matplotlib) (2.8.2)\n",
            "Requirement already satisfied: six>=1.5 in /usr/local/lib/python3.10/dist-packages (from python-dateutil>=2.7->matplotlib) (1.16.0)\n",
            "Requirement already satisfied: pylatexenc in /usr/local/lib/python3.10/dist-packages (2.10)\n",
            "Collecting qiskit-transpiler-service\n",
            "  Downloading qiskit_transpiler_service-0.4.3-py3-none-any.whl (25 kB)\n",
            "Requirement already satisfied: qiskit~=1.0 in /usr/local/lib/python3.10/dist-packages (from qiskit-transpiler-service) (1.0.2)\n",
            "Collecting backoff~=2.0 (from qiskit-transpiler-service)\n",
            "  Downloading backoff-2.2.1-py3-none-any.whl (15 kB)\n",
            "Collecting qiskit-qasm3-import~=0.4 (from qiskit-transpiler-service)\n",
            "  Downloading qiskit_qasm3_import-0.4.2-py3-none-any.whl (27 kB)\n",
            "Requirement already satisfied: requests~=2.0 in /usr/local/lib/python3.10/dist-packages (from qiskit-transpiler-service) (2.31.0)\n",
            "Requirement already satisfied: rustworkx>=0.14.0 in /usr/local/lib/python3.10/dist-packages (from qiskit~=1.0->qiskit-transpiler-service) (0.14.2)\n",
            "Requirement already satisfied: numpy<2,>=1.17 in /usr/local/lib/python3.10/dist-packages (from qiskit~=1.0->qiskit-transpiler-service) (1.25.2)\n",
            "Requirement already satisfied: scipy>=1.5 in /usr/local/lib/python3.10/dist-packages (from qiskit~=1.0->qiskit-transpiler-service) (1.11.4)\n",
            "Requirement already satisfied: sympy>=1.3 in /usr/local/lib/python3.10/dist-packages (from qiskit~=1.0->qiskit-transpiler-service) (1.12.1)\n",
            "Requirement already satisfied: dill>=0.3 in /usr/local/lib/python3.10/dist-packages (from qiskit~=1.0->qiskit-transpiler-service) (0.3.8)\n",
            "Requirement already satisfied: python-dateutil>=2.8.0 in /usr/local/lib/python3.10/dist-packages (from qiskit~=1.0->qiskit-transpiler-service) (2.8.2)\n",
            "Requirement already satisfied: stevedore>=3.0.0 in /usr/local/lib/python3.10/dist-packages (from qiskit~=1.0->qiskit-transpiler-service) (5.2.0)\n",
            "Requirement already satisfied: typing-extensions in /usr/local/lib/python3.10/dist-packages (from qiskit~=1.0->qiskit-transpiler-service) (4.12.1)\n",
            "Requirement already satisfied: symengine>=0.11 in /usr/local/lib/python3.10/dist-packages (from qiskit~=1.0->qiskit-transpiler-service) (0.11.0)\n",
            "Collecting openqasm3[parser]<0.6,>=0.4 (from qiskit-qasm3-import~=0.4->qiskit-transpiler-service)\n",
            "  Downloading openqasm3-0.5.0-py3-none-any.whl (524 kB)\n",
            "\u001b[2K     \u001b[90m━━━━━━━━━━━━━━━━━━━━━━━━━━━━━━━━━━━━━━━━\u001b[0m \u001b[32m524.0/524.0 kB\u001b[0m \u001b[31m19.9 MB/s\u001b[0m eta \u001b[36m0:00:00\u001b[0m\n",
            "\u001b[?25hRequirement already satisfied: charset-normalizer<4,>=2 in /usr/local/lib/python3.10/dist-packages (from requests~=2.0->qiskit-transpiler-service) (3.3.2)\n",
            "Requirement already satisfied: idna<4,>=2.5 in /usr/local/lib/python3.10/dist-packages (from requests~=2.0->qiskit-transpiler-service) (3.7)\n",
            "Requirement already satisfied: urllib3<3,>=1.21.1 in /usr/local/lib/python3.10/dist-packages (from requests~=2.0->qiskit-transpiler-service) (2.2.1)\n",
            "Requirement already satisfied: certifi>=2017.4.17 in /usr/local/lib/python3.10/dist-packages (from requests~=2.0->qiskit-transpiler-service) (2024.6.2)\n",
            "Collecting antlr4-python3-runtime<4.14,>=4.7 (from openqasm3[parser]<0.6,>=0.4->qiskit-qasm3-import~=0.4->qiskit-transpiler-service)\n",
            "  Downloading antlr4_python3_runtime-4.13.1-py3-none-any.whl (144 kB)\n",
            "\u001b[2K     \u001b[90m━━━━━━━━━━━━━━━━━━━━━━━━━━━━━━━━━━━━━━━━\u001b[0m \u001b[32m144.5/144.5 kB\u001b[0m \u001b[31m17.9 MB/s\u001b[0m eta \u001b[36m0:00:00\u001b[0m\n",
            "\u001b[?25hRequirement already satisfied: six>=1.5 in /usr/local/lib/python3.10/dist-packages (from python-dateutil>=2.8.0->qiskit~=1.0->qiskit-transpiler-service) (1.16.0)\n",
            "Requirement already satisfied: pbr!=2.1.0,>=2.0.0 in /usr/local/lib/python3.10/dist-packages (from stevedore>=3.0.0->qiskit~=1.0->qiskit-transpiler-service) (6.0.0)\n",
            "Requirement already satisfied: mpmath<1.4.0,>=1.1.0 in /usr/local/lib/python3.10/dist-packages (from sympy>=1.3->qiskit~=1.0->qiskit-transpiler-service) (1.3.0)\n",
            "Installing collected packages: openqasm3, antlr4-python3-runtime, backoff, qiskit-qasm3-import, qiskit-transpiler-service\n",
            "Successfully installed antlr4-python3-runtime-4.13.1 backoff-2.2.1 openqasm3-0.5.0 qiskit-qasm3-import-0.4.2 qiskit-transpiler-service-0.4.3\n",
            "Collecting git+https://github.com/qiskit-community/Quantum-Challenge-Grader.git\n",
            "  Cloning https://github.com/qiskit-community/Quantum-Challenge-Grader.git to /tmp/pip-req-build-m2081z2c\n",
            "  Running command git clone --filter=blob:none --quiet https://github.com/qiskit-community/Quantum-Challenge-Grader.git /tmp/pip-req-build-m2081z2c\n",
            "  Resolved https://github.com/qiskit-community/Quantum-Challenge-Grader.git to commit cdaecf0af5ffb66e38afc655395708d43d1d4e3a\n",
            "  Preparing metadata (setup.py) ... \u001b[?25l\u001b[?25hdone\n",
            "Collecting typeguard (from qc-grader==0.18.10)\n",
            "  Downloading typeguard-4.3.0-py3-none-any.whl (35 kB)\n",
            "Collecting jsonpickle==3.0.3 (from qc-grader==0.18.10)\n",
            "  Downloading jsonpickle-3.0.3-py3-none-any.whl (40 kB)\n",
            "\u001b[2K     \u001b[90m━━━━━━━━━━━━━━━━━━━━━━━━━━━━━━━━━━━━━━━━\u001b[0m \u001b[32m40.8/40.8 kB\u001b[0m \u001b[31m3.7 MB/s\u001b[0m eta \u001b[36m0:00:00\u001b[0m\n",
            "\u001b[?25hCollecting ipycytoscape (from qc-grader==0.18.10)\n",
            "  Downloading ipycytoscape-1.3.3-py2.py3-none-any.whl (3.6 MB)\n",
            "\u001b[2K     \u001b[90m━━━━━━━━━━━━━━━━━━━━━━━━━━━━━━━━━━━━━━━━\u001b[0m \u001b[32m3.6/3.6 MB\u001b[0m \u001b[31m44.1 MB/s\u001b[0m eta \u001b[36m0:00:00\u001b[0m\n",
            "\u001b[?25hRequirement already satisfied: plotly in /usr/local/lib/python3.10/dist-packages (from qc-grader==0.18.10) (5.15.0)\n",
            "Collecting networkx==3.2.1 (from qc-grader==0.18.10)\n",
            "  Downloading networkx-3.2.1-py3-none-any.whl (1.6 MB)\n",
            "\u001b[2K     \u001b[90m━━━━━━━━━━━━━━━━━━━━━━━━━━━━━━━━━━━━━━━━\u001b[0m \u001b[32m1.6/1.6 MB\u001b[0m \u001b[31m66.4 MB/s\u001b[0m eta \u001b[36m0:00:00\u001b[0m\n",
            "\u001b[?25hRequirement already satisfied: ipywidgets>=7.6.0 in /usr/local/lib/python3.10/dist-packages (from ipycytoscape->qc-grader==0.18.10) (7.7.1)\n",
            "Collecting spectate>=1.0.0 (from ipycytoscape->qc-grader==0.18.10)\n",
            "  Downloading spectate-1.0.1-py2.py3-none-any.whl (11 kB)\n",
            "Requirement already satisfied: tenacity>=6.2.0 in /usr/local/lib/python3.10/dist-packages (from plotly->qc-grader==0.18.10) (8.3.0)\n",
            "Requirement already satisfied: packaging in /usr/local/lib/python3.10/dist-packages (from plotly->qc-grader==0.18.10) (24.0)\n",
            "Requirement already satisfied: typing-extensions>=4.10.0 in /usr/local/lib/python3.10/dist-packages (from typeguard->qc-grader==0.18.10) (4.12.1)\n",
            "Requirement already satisfied: ipykernel>=4.5.1 in /usr/local/lib/python3.10/dist-packages (from ipywidgets>=7.6.0->ipycytoscape->qc-grader==0.18.10) (5.5.6)\n",
            "Requirement already satisfied: ipython-genutils~=0.2.0 in /usr/local/lib/python3.10/dist-packages (from ipywidgets>=7.6.0->ipycytoscape->qc-grader==0.18.10) (0.2.0)\n",
            "Requirement already satisfied: traitlets>=4.3.1 in /usr/local/lib/python3.10/dist-packages (from ipywidgets>=7.6.0->ipycytoscape->qc-grader==0.18.10) (5.7.1)\n",
            "Requirement already satisfied: widgetsnbextension~=3.6.0 in /usr/local/lib/python3.10/dist-packages (from ipywidgets>=7.6.0->ipycytoscape->qc-grader==0.18.10) (3.6.6)\n",
            "Requirement already satisfied: ipython>=4.0.0 in /usr/local/lib/python3.10/dist-packages (from ipywidgets>=7.6.0->ipycytoscape->qc-grader==0.18.10) (7.34.0)\n",
            "Requirement already satisfied: jupyterlab-widgets>=1.0.0 in /usr/local/lib/python3.10/dist-packages (from ipywidgets>=7.6.0->ipycytoscape->qc-grader==0.18.10) (3.0.11)\n",
            "Requirement already satisfied: jupyter-client in /usr/local/lib/python3.10/dist-packages (from ipykernel>=4.5.1->ipywidgets>=7.6.0->ipycytoscape->qc-grader==0.18.10) (6.1.12)\n",
            "Requirement already satisfied: tornado>=4.2 in /usr/local/lib/python3.10/dist-packages (from ipykernel>=4.5.1->ipywidgets>=7.6.0->ipycytoscape->qc-grader==0.18.10) (6.3.3)\n",
            "Requirement already satisfied: setuptools>=18.5 in /usr/local/lib/python3.10/dist-packages (from ipython>=4.0.0->ipywidgets>=7.6.0->ipycytoscape->qc-grader==0.18.10) (67.7.2)\n",
            "Collecting jedi>=0.16 (from ipython>=4.0.0->ipywidgets>=7.6.0->ipycytoscape->qc-grader==0.18.10)\n",
            "  Downloading jedi-0.19.1-py2.py3-none-any.whl (1.6 MB)\n",
            "\u001b[2K     \u001b[90m━━━━━━━━━━━━━━━━━━━━━━━━━━━━━━━━━━━━━━━━\u001b[0m \u001b[32m1.6/1.6 MB\u001b[0m \u001b[31m67.0 MB/s\u001b[0m eta \u001b[36m0:00:00\u001b[0m\n",
            "\u001b[?25hRequirement already satisfied: decorator in /usr/local/lib/python3.10/dist-packages (from ipython>=4.0.0->ipywidgets>=7.6.0->ipycytoscape->qc-grader==0.18.10) (4.4.2)\n",
            "Requirement already satisfied: pickleshare in /usr/local/lib/python3.10/dist-packages (from ipython>=4.0.0->ipywidgets>=7.6.0->ipycytoscape->qc-grader==0.18.10) (0.7.5)\n",
            "Requirement already satisfied: prompt-toolkit!=3.0.0,!=3.0.1,<3.1.0,>=2.0.0 in /usr/local/lib/python3.10/dist-packages (from ipython>=4.0.0->ipywidgets>=7.6.0->ipycytoscape->qc-grader==0.18.10) (3.0.45)\n",
            "Requirement already satisfied: pygments in /usr/local/lib/python3.10/dist-packages (from ipython>=4.0.0->ipywidgets>=7.6.0->ipycytoscape->qc-grader==0.18.10) (2.16.1)\n",
            "Requirement already satisfied: backcall in /usr/local/lib/python3.10/dist-packages (from ipython>=4.0.0->ipywidgets>=7.6.0->ipycytoscape->qc-grader==0.18.10) (0.2.0)\n",
            "Requirement already satisfied: matplotlib-inline in /usr/local/lib/python3.10/dist-packages (from ipython>=4.0.0->ipywidgets>=7.6.0->ipycytoscape->qc-grader==0.18.10) (0.1.7)\n",
            "Requirement already satisfied: pexpect>4.3 in /usr/local/lib/python3.10/dist-packages (from ipython>=4.0.0->ipywidgets>=7.6.0->ipycytoscape->qc-grader==0.18.10) (4.9.0)\n",
            "Requirement already satisfied: notebook>=4.4.1 in /usr/local/lib/python3.10/dist-packages (from widgetsnbextension~=3.6.0->ipywidgets>=7.6.0->ipycytoscape->qc-grader==0.18.10) (6.5.5)\n",
            "Requirement already satisfied: parso<0.9.0,>=0.8.3 in /usr/local/lib/python3.10/dist-packages (from jedi>=0.16->ipython>=4.0.0->ipywidgets>=7.6.0->ipycytoscape->qc-grader==0.18.10) (0.8.4)\n",
            "Requirement already satisfied: jinja2 in /usr/local/lib/python3.10/dist-packages (from notebook>=4.4.1->widgetsnbextension~=3.6.0->ipywidgets>=7.6.0->ipycytoscape->qc-grader==0.18.10) (3.1.4)\n",
            "Requirement already satisfied: pyzmq<25,>=17 in /usr/local/lib/python3.10/dist-packages (from notebook>=4.4.1->widgetsnbextension~=3.6.0->ipywidgets>=7.6.0->ipycytoscape->qc-grader==0.18.10) (24.0.1)\n",
            "Requirement already satisfied: argon2-cffi in /usr/local/lib/python3.10/dist-packages (from notebook>=4.4.1->widgetsnbextension~=3.6.0->ipywidgets>=7.6.0->ipycytoscape->qc-grader==0.18.10) (23.1.0)\n",
            "Requirement already satisfied: jupyter-core>=4.6.1 in /usr/local/lib/python3.10/dist-packages (from notebook>=4.4.1->widgetsnbextension~=3.6.0->ipywidgets>=7.6.0->ipycytoscape->qc-grader==0.18.10) (5.7.2)\n",
            "Requirement already satisfied: nbformat in /usr/local/lib/python3.10/dist-packages (from notebook>=4.4.1->widgetsnbextension~=3.6.0->ipywidgets>=7.6.0->ipycytoscape->qc-grader==0.18.10) (5.10.4)\n",
            "Requirement already satisfied: nbconvert>=5 in /usr/local/lib/python3.10/dist-packages (from notebook>=4.4.1->widgetsnbextension~=3.6.0->ipywidgets>=7.6.0->ipycytoscape->qc-grader==0.18.10) (6.5.4)\n",
            "Requirement already satisfied: nest-asyncio>=1.5 in /usr/local/lib/python3.10/dist-packages (from notebook>=4.4.1->widgetsnbextension~=3.6.0->ipywidgets>=7.6.0->ipycytoscape->qc-grader==0.18.10) (1.6.0)\n",
            "Requirement already satisfied: Send2Trash>=1.8.0 in /usr/local/lib/python3.10/dist-packages (from notebook>=4.4.1->widgetsnbextension~=3.6.0->ipywidgets>=7.6.0->ipycytoscape->qc-grader==0.18.10) (1.8.3)\n",
            "Requirement already satisfied: terminado>=0.8.3 in /usr/local/lib/python3.10/dist-packages (from notebook>=4.4.1->widgetsnbextension~=3.6.0->ipywidgets>=7.6.0->ipycytoscape->qc-grader==0.18.10) (0.18.1)\n",
            "Requirement already satisfied: prometheus-client in /usr/local/lib/python3.10/dist-packages (from notebook>=4.4.1->widgetsnbextension~=3.6.0->ipywidgets>=7.6.0->ipycytoscape->qc-grader==0.18.10) (0.20.0)\n",
            "Requirement already satisfied: nbclassic>=0.4.7 in /usr/local/lib/python3.10/dist-packages (from notebook>=4.4.1->widgetsnbextension~=3.6.0->ipywidgets>=7.6.0->ipycytoscape->qc-grader==0.18.10) (1.1.0)\n",
            "Requirement already satisfied: python-dateutil>=2.1 in /usr/local/lib/python3.10/dist-packages (from jupyter-client->ipykernel>=4.5.1->ipywidgets>=7.6.0->ipycytoscape->qc-grader==0.18.10) (2.8.2)\n",
            "Requirement already satisfied: ptyprocess>=0.5 in /usr/local/lib/python3.10/dist-packages (from pexpect>4.3->ipython>=4.0.0->ipywidgets>=7.6.0->ipycytoscape->qc-grader==0.18.10) (0.7.0)\n",
            "Requirement already satisfied: wcwidth in /usr/local/lib/python3.10/dist-packages (from prompt-toolkit!=3.0.0,!=3.0.1,<3.1.0,>=2.0.0->ipython>=4.0.0->ipywidgets>=7.6.0->ipycytoscape->qc-grader==0.18.10) (0.2.13)\n",
            "Requirement already satisfied: platformdirs>=2.5 in /usr/local/lib/python3.10/dist-packages (from jupyter-core>=4.6.1->notebook>=4.4.1->widgetsnbextension~=3.6.0->ipywidgets>=7.6.0->ipycytoscape->qc-grader==0.18.10) (4.2.2)\n",
            "Requirement already satisfied: notebook-shim>=0.2.3 in /usr/local/lib/python3.10/dist-packages (from nbclassic>=0.4.7->notebook>=4.4.1->widgetsnbextension~=3.6.0->ipywidgets>=7.6.0->ipycytoscape->qc-grader==0.18.10) (0.2.4)\n",
            "Requirement already satisfied: lxml in /usr/local/lib/python3.10/dist-packages (from nbconvert>=5->notebook>=4.4.1->widgetsnbextension~=3.6.0->ipywidgets>=7.6.0->ipycytoscape->qc-grader==0.18.10) (4.9.4)\n",
            "Requirement already satisfied: beautifulsoup4 in /usr/local/lib/python3.10/dist-packages (from nbconvert>=5->notebook>=4.4.1->widgetsnbextension~=3.6.0->ipywidgets>=7.6.0->ipycytoscape->qc-grader==0.18.10) (4.12.3)\n",
            "Requirement already satisfied: bleach in /usr/local/lib/python3.10/dist-packages (from nbconvert>=5->notebook>=4.4.1->widgetsnbextension~=3.6.0->ipywidgets>=7.6.0->ipycytoscape->qc-grader==0.18.10) (6.1.0)\n",
            "Requirement already satisfied: defusedxml in /usr/local/lib/python3.10/dist-packages (from nbconvert>=5->notebook>=4.4.1->widgetsnbextension~=3.6.0->ipywidgets>=7.6.0->ipycytoscape->qc-grader==0.18.10) (0.7.1)\n",
            "Requirement already satisfied: entrypoints>=0.2.2 in /usr/local/lib/python3.10/dist-packages (from nbconvert>=5->notebook>=4.4.1->widgetsnbextension~=3.6.0->ipywidgets>=7.6.0->ipycytoscape->qc-grader==0.18.10) (0.4)\n",
            "Requirement already satisfied: jupyterlab-pygments in /usr/local/lib/python3.10/dist-packages (from nbconvert>=5->notebook>=4.4.1->widgetsnbextension~=3.6.0->ipywidgets>=7.6.0->ipycytoscape->qc-grader==0.18.10) (0.3.0)\n",
            "Requirement already satisfied: MarkupSafe>=2.0 in /usr/local/lib/python3.10/dist-packages (from nbconvert>=5->notebook>=4.4.1->widgetsnbextension~=3.6.0->ipywidgets>=7.6.0->ipycytoscape->qc-grader==0.18.10) (2.1.5)\n",
            "Requirement already satisfied: mistune<2,>=0.8.1 in /usr/local/lib/python3.10/dist-packages (from nbconvert>=5->notebook>=4.4.1->widgetsnbextension~=3.6.0->ipywidgets>=7.6.0->ipycytoscape->qc-grader==0.18.10) (0.8.4)\n",
            "Requirement already satisfied: nbclient>=0.5.0 in /usr/local/lib/python3.10/dist-packages (from nbconvert>=5->notebook>=4.4.1->widgetsnbextension~=3.6.0->ipywidgets>=7.6.0->ipycytoscape->qc-grader==0.18.10) (0.10.0)\n",
            "Requirement already satisfied: pandocfilters>=1.4.1 in /usr/local/lib/python3.10/dist-packages (from nbconvert>=5->notebook>=4.4.1->widgetsnbextension~=3.6.0->ipywidgets>=7.6.0->ipycytoscape->qc-grader==0.18.10) (1.5.1)\n",
            "Requirement already satisfied: tinycss2 in /usr/local/lib/python3.10/dist-packages (from nbconvert>=5->notebook>=4.4.1->widgetsnbextension~=3.6.0->ipywidgets>=7.6.0->ipycytoscape->qc-grader==0.18.10) (1.3.0)\n",
            "Requirement already satisfied: fastjsonschema>=2.15 in /usr/local/lib/python3.10/dist-packages (from nbformat->notebook>=4.4.1->widgetsnbextension~=3.6.0->ipywidgets>=7.6.0->ipycytoscape->qc-grader==0.18.10) (2.19.1)\n",
            "Requirement already satisfied: jsonschema>=2.6 in /usr/local/lib/python3.10/dist-packages (from nbformat->notebook>=4.4.1->widgetsnbextension~=3.6.0->ipywidgets>=7.6.0->ipycytoscape->qc-grader==0.18.10) (4.19.2)\n",
            "Requirement already satisfied: six>=1.5 in /usr/local/lib/python3.10/dist-packages (from python-dateutil>=2.1->jupyter-client->ipykernel>=4.5.1->ipywidgets>=7.6.0->ipycytoscape->qc-grader==0.18.10) (1.16.0)\n",
            "Requirement already satisfied: argon2-cffi-bindings in /usr/local/lib/python3.10/dist-packages (from argon2-cffi->notebook>=4.4.1->widgetsnbextension~=3.6.0->ipywidgets>=7.6.0->ipycytoscape->qc-grader==0.18.10) (21.2.0)\n",
            "Requirement already satisfied: attrs>=22.2.0 in /usr/local/lib/python3.10/dist-packages (from jsonschema>=2.6->nbformat->notebook>=4.4.1->widgetsnbextension~=3.6.0->ipywidgets>=7.6.0->ipycytoscape->qc-grader==0.18.10) (23.2.0)\n",
            "Requirement already satisfied: jsonschema-specifications>=2023.03.6 in /usr/local/lib/python3.10/dist-packages (from jsonschema>=2.6->nbformat->notebook>=4.4.1->widgetsnbextension~=3.6.0->ipywidgets>=7.6.0->ipycytoscape->qc-grader==0.18.10) (2023.12.1)\n",
            "Requirement already satisfied: referencing>=0.28.4 in /usr/local/lib/python3.10/dist-packages (from jsonschema>=2.6->nbformat->notebook>=4.4.1->widgetsnbextension~=3.6.0->ipywidgets>=7.6.0->ipycytoscape->qc-grader==0.18.10) (0.35.1)\n",
            "Requirement already satisfied: rpds-py>=0.7.1 in /usr/local/lib/python3.10/dist-packages (from jsonschema>=2.6->nbformat->notebook>=4.4.1->widgetsnbextension~=3.6.0->ipywidgets>=7.6.0->ipycytoscape->qc-grader==0.18.10) (0.18.1)\n",
            "Requirement already satisfied: jupyter-server<3,>=1.8 in /usr/local/lib/python3.10/dist-packages (from notebook-shim>=0.2.3->nbclassic>=0.4.7->notebook>=4.4.1->widgetsnbextension~=3.6.0->ipywidgets>=7.6.0->ipycytoscape->qc-grader==0.18.10) (1.24.0)\n",
            "Requirement already satisfied: cffi>=1.0.1 in /usr/local/lib/python3.10/dist-packages (from argon2-cffi-bindings->argon2-cffi->notebook>=4.4.1->widgetsnbextension~=3.6.0->ipywidgets>=7.6.0->ipycytoscape->qc-grader==0.18.10) (1.16.0)\n",
            "Requirement already satisfied: soupsieve>1.2 in /usr/local/lib/python3.10/dist-packages (from beautifulsoup4->nbconvert>=5->notebook>=4.4.1->widgetsnbextension~=3.6.0->ipywidgets>=7.6.0->ipycytoscape->qc-grader==0.18.10) (2.5)\n",
            "Requirement already satisfied: webencodings in /usr/local/lib/python3.10/dist-packages (from bleach->nbconvert>=5->notebook>=4.4.1->widgetsnbextension~=3.6.0->ipywidgets>=7.6.0->ipycytoscape->qc-grader==0.18.10) (0.5.1)\n",
            "Requirement already satisfied: pycparser in /usr/local/lib/python3.10/dist-packages (from cffi>=1.0.1->argon2-cffi-bindings->argon2-cffi->notebook>=4.4.1->widgetsnbextension~=3.6.0->ipywidgets>=7.6.0->ipycytoscape->qc-grader==0.18.10) (2.22)\n",
            "Requirement already satisfied: anyio<4,>=3.1.0 in /usr/local/lib/python3.10/dist-packages (from jupyter-server<3,>=1.8->notebook-shim>=0.2.3->nbclassic>=0.4.7->notebook>=4.4.1->widgetsnbextension~=3.6.0->ipywidgets>=7.6.0->ipycytoscape->qc-grader==0.18.10) (3.7.1)\n",
            "Requirement already satisfied: websocket-client in /usr/local/lib/python3.10/dist-packages (from jupyter-server<3,>=1.8->notebook-shim>=0.2.3->nbclassic>=0.4.7->notebook>=4.4.1->widgetsnbextension~=3.6.0->ipywidgets>=7.6.0->ipycytoscape->qc-grader==0.18.10) (1.8.0)\n",
            "Requirement already satisfied: idna>=2.8 in /usr/local/lib/python3.10/dist-packages (from anyio<4,>=3.1.0->jupyter-server<3,>=1.8->notebook-shim>=0.2.3->nbclassic>=0.4.7->notebook>=4.4.1->widgetsnbextension~=3.6.0->ipywidgets>=7.6.0->ipycytoscape->qc-grader==0.18.10) (3.7)\n",
            "Requirement already satisfied: sniffio>=1.1 in /usr/local/lib/python3.10/dist-packages (from anyio<4,>=3.1.0->jupyter-server<3,>=1.8->notebook-shim>=0.2.3->nbclassic>=0.4.7->notebook>=4.4.1->widgetsnbextension~=3.6.0->ipywidgets>=7.6.0->ipycytoscape->qc-grader==0.18.10) (1.3.1)\n",
            "Requirement already satisfied: exceptiongroup in /usr/local/lib/python3.10/dist-packages (from anyio<4,>=3.1.0->jupyter-server<3,>=1.8->notebook-shim>=0.2.3->nbclassic>=0.4.7->notebook>=4.4.1->widgetsnbextension~=3.6.0->ipywidgets>=7.6.0->ipycytoscape->qc-grader==0.18.10) (1.2.1)\n",
            "Building wheels for collected packages: qc-grader\n",
            "  Building wheel for qc-grader (setup.py) ... \u001b[?25l\u001b[?25hdone\n",
            "  Created wheel for qc-grader: filename=qc_grader-0.18.10-py3-none-any.whl size=33077 sha256=6063e3199ab3f1947055c634bb9fdbd7ed9cf9d7b15d0e68e1cb58df7b25b2db\n",
            "  Stored in directory: /tmp/pip-ephem-wheel-cache-gsrxa6rm/wheels/7e/67/91/88d6a5b4dd4beb318ed4e79c807e2be98b7d3c2ea66565a116\n",
            "Successfully built qc-grader\n",
            "Installing collected packages: typeguard, spectate, networkx, jsonpickle, jedi, ipycytoscape, qc-grader\n",
            "  Attempting uninstall: networkx\n",
            "    Found existing installation: networkx 3.3\n",
            "    Uninstalling networkx-3.3:\n",
            "      Successfully uninstalled networkx-3.3\n",
            "  Attempting uninstall: jsonpickle\n",
            "    Found existing installation: jsonpickle 3.0.4\n",
            "    Uninstalling jsonpickle-3.0.4:\n",
            "      Successfully uninstalled jsonpickle-3.0.4\n",
            "\u001b[31mERROR: pip's dependency resolver does not currently take into account all the packages that are installed. This behaviour is the source of the following dependency conflicts.\n",
            "torch 2.3.0+cu121 requires nvidia-cublas-cu12==12.1.3.1; platform_system == \"Linux\" and platform_machine == \"x86_64\", which is not installed.\n",
            "torch 2.3.0+cu121 requires nvidia-cuda-cupti-cu12==12.1.105; platform_system == \"Linux\" and platform_machine == \"x86_64\", which is not installed.\n",
            "torch 2.3.0+cu121 requires nvidia-cuda-nvrtc-cu12==12.1.105; platform_system == \"Linux\" and platform_machine == \"x86_64\", which is not installed.\n",
            "torch 2.3.0+cu121 requires nvidia-cuda-runtime-cu12==12.1.105; platform_system == \"Linux\" and platform_machine == \"x86_64\", which is not installed.\n",
            "torch 2.3.0+cu121 requires nvidia-cudnn-cu12==8.9.2.26; platform_system == \"Linux\" and platform_machine == \"x86_64\", which is not installed.\n",
            "torch 2.3.0+cu121 requires nvidia-cufft-cu12==11.0.2.54; platform_system == \"Linux\" and platform_machine == \"x86_64\", which is not installed.\n",
            "torch 2.3.0+cu121 requires nvidia-curand-cu12==10.3.2.106; platform_system == \"Linux\" and platform_machine == \"x86_64\", which is not installed.\n",
            "torch 2.3.0+cu121 requires nvidia-cusolver-cu12==11.4.5.107; platform_system == \"Linux\" and platform_machine == \"x86_64\", which is not installed.\n",
            "torch 2.3.0+cu121 requires nvidia-cusparse-cu12==12.1.0.106; platform_system == \"Linux\" and platform_machine == \"x86_64\", which is not installed.\n",
            "torch 2.3.0+cu121 requires nvidia-nccl-cu12==2.20.5; platform_system == \"Linux\" and platform_machine == \"x86_64\", which is not installed.\n",
            "torch 2.3.0+cu121 requires nvidia-nvtx-cu12==12.1.105; platform_system == \"Linux\" and platform_machine == \"x86_64\", which is not installed.\u001b[0m\u001b[31m\n",
            "\u001b[0mSuccessfully installed ipycytoscape-1.3.3 jedi-0.19.1 jsonpickle-3.0.3 networkx-3.2.1 qc-grader-0.18.10 spectate-1.0.1 typeguard-4.3.0\n"
          ]
        }
      ],
      "source": [
        "### Install the other required packages as well\n",
        "\n",
        "!pip install qiskit_aer\n",
        "!pip install qiskit_ibm_runtime\n",
        "!pip install matplotlib\n",
        "!pip install pylatexenc\n",
        "!pip install qiskit-transpiler-service\n",
        "!pip install git+https://github.com/qiskit-community/Quantum-Challenge-Grader.git"
      ]
    },
    {
      "cell_type": "code",
      "execution_count": null,
      "id": "3b7e612e-67b1-4111-be1e-1fd7a16187ec",
      "metadata": {
        "colab": {
          "base_uri": "https://localhost:8080/"
        },
        "id": "3b7e612e-67b1-4111-be1e-1fd7a16187ec",
        "outputId": "4db2e240-e4de-4b27-92d1-0763fcec7ff0"
      },
      "outputs": [
        {
          "output_type": "stream",
          "name": "stdout",
          "text": [
            "Requirement already satisfied: qiskit_aer in /usr/local/lib/python3.10/dist-packages (0.14.2)\n",
            "Requirement already satisfied: qiskit>=0.45.2 in /usr/local/lib/python3.10/dist-packages (from qiskit_aer) (1.0.2)\n",
            "Requirement already satisfied: numpy>=1.16.3 in /usr/local/lib/python3.10/dist-packages (from qiskit_aer) (1.25.2)\n",
            "Requirement already satisfied: scipy>=1.0 in /usr/local/lib/python3.10/dist-packages (from qiskit_aer) (1.11.4)\n",
            "Requirement already satisfied: psutil>=5 in /usr/local/lib/python3.10/dist-packages (from qiskit_aer) (5.9.5)\n",
            "Requirement already satisfied: rustworkx>=0.14.0 in /usr/local/lib/python3.10/dist-packages (from qiskit>=0.45.2->qiskit_aer) (0.14.2)\n",
            "Requirement already satisfied: sympy>=1.3 in /usr/local/lib/python3.10/dist-packages (from qiskit>=0.45.2->qiskit_aer) (1.12.1)\n",
            "Requirement already satisfied: dill>=0.3 in /usr/local/lib/python3.10/dist-packages (from qiskit>=0.45.2->qiskit_aer) (0.3.8)\n",
            "Requirement already satisfied: python-dateutil>=2.8.0 in /usr/local/lib/python3.10/dist-packages (from qiskit>=0.45.2->qiskit_aer) (2.8.2)\n",
            "Requirement already satisfied: stevedore>=3.0.0 in /usr/local/lib/python3.10/dist-packages (from qiskit>=0.45.2->qiskit_aer) (5.2.0)\n",
            "Requirement already satisfied: typing-extensions in /usr/local/lib/python3.10/dist-packages (from qiskit>=0.45.2->qiskit_aer) (4.12.1)\n",
            "Requirement already satisfied: symengine>=0.11 in /usr/local/lib/python3.10/dist-packages (from qiskit>=0.45.2->qiskit_aer) (0.11.0)\n",
            "Requirement already satisfied: six>=1.5 in /usr/local/lib/python3.10/dist-packages (from python-dateutil>=2.8.0->qiskit>=0.45.2->qiskit_aer) (1.16.0)\n",
            "Requirement already satisfied: pbr!=2.1.0,>=2.0.0 in /usr/local/lib/python3.10/dist-packages (from stevedore>=3.0.0->qiskit>=0.45.2->qiskit_aer) (6.0.0)\n",
            "Requirement already satisfied: mpmath<1.4.0,>=1.1.0 in /usr/local/lib/python3.10/dist-packages (from sympy>=1.3->qiskit>=0.45.2->qiskit_aer) (1.3.0)\n",
            "Requirement already satisfied: qiskit_ibm_runtime in /usr/local/lib/python3.10/dist-packages (0.23.0)\n",
            "Requirement already satisfied: requests>=2.19 in /usr/local/lib/python3.10/dist-packages (from qiskit_ibm_runtime) (2.31.0)\n",
            "Requirement already satisfied: requests-ntlm>=1.1.0 in /usr/local/lib/python3.10/dist-packages (from qiskit_ibm_runtime) (1.2.0)\n",
            "Requirement already satisfied: numpy>=1.13 in /usr/local/lib/python3.10/dist-packages (from qiskit_ibm_runtime) (1.25.2)\n",
            "Requirement already satisfied: urllib3>=1.21.1 in /usr/local/lib/python3.10/dist-packages (from qiskit_ibm_runtime) (2.2.1)\n",
            "Requirement already satisfied: python-dateutil>=2.8.0 in /usr/local/lib/python3.10/dist-packages (from qiskit_ibm_runtime) (2.8.2)\n",
            "Requirement already satisfied: websocket-client>=1.5.1 in /usr/local/lib/python3.10/dist-packages (from qiskit_ibm_runtime) (1.8.0)\n",
            "Requirement already satisfied: ibm-platform-services>=0.22.6 in /usr/local/lib/python3.10/dist-packages (from qiskit_ibm_runtime) (0.53.7)\n",
            "Requirement already satisfied: pydantic in /usr/local/lib/python3.10/dist-packages (from qiskit_ibm_runtime) (2.7.3)\n",
            "Requirement already satisfied: qiskit>=1.0.0 in /usr/local/lib/python3.10/dist-packages (from qiskit_ibm_runtime) (1.0.2)\n",
            "Requirement already satisfied: ibm-cloud-sdk-core<4.0.0,>=3.19.2 in /usr/local/lib/python3.10/dist-packages (from ibm-platform-services>=0.22.6->qiskit_ibm_runtime) (3.20.1)\n",
            "Requirement already satisfied: six>=1.5 in /usr/local/lib/python3.10/dist-packages (from python-dateutil>=2.8.0->qiskit_ibm_runtime) (1.16.0)\n",
            "Requirement already satisfied: rustworkx>=0.14.0 in /usr/local/lib/python3.10/dist-packages (from qiskit>=1.0.0->qiskit_ibm_runtime) (0.14.2)\n",
            "Requirement already satisfied: scipy>=1.5 in /usr/local/lib/python3.10/dist-packages (from qiskit>=1.0.0->qiskit_ibm_runtime) (1.11.4)\n",
            "Requirement already satisfied: sympy>=1.3 in /usr/local/lib/python3.10/dist-packages (from qiskit>=1.0.0->qiskit_ibm_runtime) (1.12.1)\n",
            "Requirement already satisfied: dill>=0.3 in /usr/local/lib/python3.10/dist-packages (from qiskit>=1.0.0->qiskit_ibm_runtime) (0.3.8)\n",
            "Requirement already satisfied: stevedore>=3.0.0 in /usr/local/lib/python3.10/dist-packages (from qiskit>=1.0.0->qiskit_ibm_runtime) (5.2.0)\n",
            "Requirement already satisfied: typing-extensions in /usr/local/lib/python3.10/dist-packages (from qiskit>=1.0.0->qiskit_ibm_runtime) (4.12.1)\n",
            "Requirement already satisfied: symengine>=0.11 in /usr/local/lib/python3.10/dist-packages (from qiskit>=1.0.0->qiskit_ibm_runtime) (0.11.0)\n",
            "Requirement already satisfied: charset-normalizer<4,>=2 in /usr/local/lib/python3.10/dist-packages (from requests>=2.19->qiskit_ibm_runtime) (3.3.2)\n",
            "Requirement already satisfied: idna<4,>=2.5 in /usr/local/lib/python3.10/dist-packages (from requests>=2.19->qiskit_ibm_runtime) (3.7)\n",
            "Requirement already satisfied: certifi>=2017.4.17 in /usr/local/lib/python3.10/dist-packages (from requests>=2.19->qiskit_ibm_runtime) (2024.6.2)\n",
            "Requirement already satisfied: cryptography>=1.3 in /usr/local/lib/python3.10/dist-packages (from requests-ntlm>=1.1.0->qiskit_ibm_runtime) (42.0.7)\n",
            "Requirement already satisfied: pyspnego>=0.1.6 in /usr/local/lib/python3.10/dist-packages (from requests-ntlm>=1.1.0->qiskit_ibm_runtime) (0.10.2)\n",
            "Requirement already satisfied: annotated-types>=0.4.0 in /usr/local/lib/python3.10/dist-packages (from pydantic->qiskit_ibm_runtime) (0.7.0)\n",
            "Requirement already satisfied: pydantic-core==2.18.4 in /usr/local/lib/python3.10/dist-packages (from pydantic->qiskit_ibm_runtime) (2.18.4)\n",
            "Requirement already satisfied: cffi>=1.12 in /usr/local/lib/python3.10/dist-packages (from cryptography>=1.3->requests-ntlm>=1.1.0->qiskit_ibm_runtime) (1.16.0)\n",
            "Requirement already satisfied: PyJWT<3.0.0,>=2.8.0 in /usr/local/lib/python3.10/dist-packages (from ibm-cloud-sdk-core<4.0.0,>=3.19.2->ibm-platform-services>=0.22.6->qiskit_ibm_runtime) (2.8.0)\n",
            "Requirement already satisfied: pbr!=2.1.0,>=2.0.0 in /usr/local/lib/python3.10/dist-packages (from stevedore>=3.0.0->qiskit>=1.0.0->qiskit_ibm_runtime) (6.0.0)\n",
            "Requirement already satisfied: mpmath<1.4.0,>=1.1.0 in /usr/local/lib/python3.10/dist-packages (from sympy>=1.3->qiskit>=1.0.0->qiskit_ibm_runtime) (1.3.0)\n",
            "Requirement already satisfied: pycparser in /usr/local/lib/python3.10/dist-packages (from cffi>=1.12->cryptography>=1.3->requests-ntlm>=1.1.0->qiskit_ibm_runtime) (2.22)\n",
            "Requirement already satisfied: matplotlib in /usr/local/lib/python3.10/dist-packages (3.7.1)\n",
            "Requirement already satisfied: contourpy>=1.0.1 in /usr/local/lib/python3.10/dist-packages (from matplotlib) (1.2.1)\n",
            "Requirement already satisfied: cycler>=0.10 in /usr/local/lib/python3.10/dist-packages (from matplotlib) (0.12.1)\n",
            "Requirement already satisfied: fonttools>=4.22.0 in /usr/local/lib/python3.10/dist-packages (from matplotlib) (4.53.0)\n",
            "Requirement already satisfied: kiwisolver>=1.0.1 in /usr/local/lib/python3.10/dist-packages (from matplotlib) (1.4.5)\n",
            "Requirement already satisfied: numpy>=1.20 in /usr/local/lib/python3.10/dist-packages (from matplotlib) (1.25.2)\n",
            "Requirement already satisfied: packaging>=20.0 in /usr/local/lib/python3.10/dist-packages (from matplotlib) (24.0)\n",
            "Requirement already satisfied: pillow>=6.2.0 in /usr/local/lib/python3.10/dist-packages (from matplotlib) (9.4.0)\n",
            "Requirement already satisfied: pyparsing>=2.3.1 in /usr/local/lib/python3.10/dist-packages (from matplotlib) (3.1.2)\n",
            "Requirement already satisfied: python-dateutil>=2.7 in /usr/local/lib/python3.10/dist-packages (from matplotlib) (2.8.2)\n",
            "Requirement already satisfied: six>=1.5 in /usr/local/lib/python3.10/dist-packages (from python-dateutil>=2.7->matplotlib) (1.16.0)\n",
            "Requirement already satisfied: pylatexenc in /usr/local/lib/python3.10/dist-packages (2.10)\n",
            "Requirement already satisfied: qiskit-transpiler-service in /usr/local/lib/python3.10/dist-packages (0.4.3)\n",
            "Requirement already satisfied: qiskit~=1.0 in /usr/local/lib/python3.10/dist-packages (from qiskit-transpiler-service) (1.0.2)\n",
            "Requirement already satisfied: backoff~=2.0 in /usr/local/lib/python3.10/dist-packages (from qiskit-transpiler-service) (2.2.1)\n",
            "Requirement already satisfied: qiskit-qasm3-import~=0.4 in /usr/local/lib/python3.10/dist-packages (from qiskit-transpiler-service) (0.4.2)\n",
            "Requirement already satisfied: requests~=2.0 in /usr/local/lib/python3.10/dist-packages (from qiskit-transpiler-service) (2.31.0)\n",
            "Requirement already satisfied: rustworkx>=0.14.0 in /usr/local/lib/python3.10/dist-packages (from qiskit~=1.0->qiskit-transpiler-service) (0.14.2)\n",
            "Requirement already satisfied: numpy<2,>=1.17 in /usr/local/lib/python3.10/dist-packages (from qiskit~=1.0->qiskit-transpiler-service) (1.25.2)\n",
            "Requirement already satisfied: scipy>=1.5 in /usr/local/lib/python3.10/dist-packages (from qiskit~=1.0->qiskit-transpiler-service) (1.11.4)\n",
            "Requirement already satisfied: sympy>=1.3 in /usr/local/lib/python3.10/dist-packages (from qiskit~=1.0->qiskit-transpiler-service) (1.12.1)\n",
            "Requirement already satisfied: dill>=0.3 in /usr/local/lib/python3.10/dist-packages (from qiskit~=1.0->qiskit-transpiler-service) (0.3.8)\n",
            "Requirement already satisfied: python-dateutil>=2.8.0 in /usr/local/lib/python3.10/dist-packages (from qiskit~=1.0->qiskit-transpiler-service) (2.8.2)\n",
            "Requirement already satisfied: stevedore>=3.0.0 in /usr/local/lib/python3.10/dist-packages (from qiskit~=1.0->qiskit-transpiler-service) (5.2.0)\n",
            "Requirement already satisfied: typing-extensions in /usr/local/lib/python3.10/dist-packages (from qiskit~=1.0->qiskit-transpiler-service) (4.12.1)\n",
            "Requirement already satisfied: symengine>=0.11 in /usr/local/lib/python3.10/dist-packages (from qiskit~=1.0->qiskit-transpiler-service) (0.11.0)\n",
            "Requirement already satisfied: openqasm3[parser]<0.6,>=0.4 in /usr/local/lib/python3.10/dist-packages (from qiskit-qasm3-import~=0.4->qiskit-transpiler-service) (0.5.0)\n",
            "Requirement already satisfied: charset-normalizer<4,>=2 in /usr/local/lib/python3.10/dist-packages (from requests~=2.0->qiskit-transpiler-service) (3.3.2)\n",
            "Requirement already satisfied: idna<4,>=2.5 in /usr/local/lib/python3.10/dist-packages (from requests~=2.0->qiskit-transpiler-service) (3.7)\n",
            "Requirement already satisfied: urllib3<3,>=1.21.1 in /usr/local/lib/python3.10/dist-packages (from requests~=2.0->qiskit-transpiler-service) (2.2.1)\n",
            "Requirement already satisfied: certifi>=2017.4.17 in /usr/local/lib/python3.10/dist-packages (from requests~=2.0->qiskit-transpiler-service) (2024.6.2)\n",
            "Requirement already satisfied: antlr4-python3-runtime<4.14,>=4.7 in /usr/local/lib/python3.10/dist-packages (from openqasm3[parser]<0.6,>=0.4->qiskit-qasm3-import~=0.4->qiskit-transpiler-service) (4.13.1)\n",
            "Requirement already satisfied: six>=1.5 in /usr/local/lib/python3.10/dist-packages (from python-dateutil>=2.8.0->qiskit~=1.0->qiskit-transpiler-service) (1.16.0)\n",
            "Requirement already satisfied: pbr!=2.1.0,>=2.0.0 in /usr/local/lib/python3.10/dist-packages (from stevedore>=3.0.0->qiskit~=1.0->qiskit-transpiler-service) (6.0.0)\n",
            "Requirement already satisfied: mpmath<1.4.0,>=1.1.0 in /usr/local/lib/python3.10/dist-packages (from sympy>=1.3->qiskit~=1.0->qiskit-transpiler-service) (1.3.0)\n",
            "Collecting git+https://github.com/qiskit-community/Quantum-Challenge-Grader.git\n",
            "  Cloning https://github.com/qiskit-community/Quantum-Challenge-Grader.git to /tmp/pip-req-build-b1gh8gz_\n",
            "  Running command git clone --filter=blob:none --quiet https://github.com/qiskit-community/Quantum-Challenge-Grader.git /tmp/pip-req-build-b1gh8gz_\n",
            "  Resolved https://github.com/qiskit-community/Quantum-Challenge-Grader.git to commit cdaecf0af5ffb66e38afc655395708d43d1d4e3a\n",
            "  Preparing metadata (setup.py) ... \u001b[?25l\u001b[?25hdone\n",
            "Requirement already satisfied: typeguard in /usr/local/lib/python3.10/dist-packages (from qc-grader==0.18.10) (4.3.0)\n",
            "Requirement already satisfied: jsonpickle==3.0.3 in /usr/local/lib/python3.10/dist-packages (from qc-grader==0.18.10) (3.0.3)\n",
            "Requirement already satisfied: ipycytoscape in /usr/local/lib/python3.10/dist-packages (from qc-grader==0.18.10) (1.3.3)\n",
            "Requirement already satisfied: plotly in /usr/local/lib/python3.10/dist-packages (from qc-grader==0.18.10) (5.15.0)\n",
            "Requirement already satisfied: networkx==3.2.1 in /usr/local/lib/python3.10/dist-packages (from qc-grader==0.18.10) (3.2.1)\n",
            "Requirement already satisfied: ipywidgets>=7.6.0 in /usr/local/lib/python3.10/dist-packages (from ipycytoscape->qc-grader==0.18.10) (7.7.1)\n",
            "Requirement already satisfied: spectate>=1.0.0 in /usr/local/lib/python3.10/dist-packages (from ipycytoscape->qc-grader==0.18.10) (1.0.1)\n",
            "Requirement already satisfied: tenacity>=6.2.0 in /usr/local/lib/python3.10/dist-packages (from plotly->qc-grader==0.18.10) (8.3.0)\n",
            "Requirement already satisfied: packaging in /usr/local/lib/python3.10/dist-packages (from plotly->qc-grader==0.18.10) (24.0)\n",
            "Requirement already satisfied: typing-extensions>=4.10.0 in /usr/local/lib/python3.10/dist-packages (from typeguard->qc-grader==0.18.10) (4.12.1)\n",
            "Requirement already satisfied: ipykernel>=4.5.1 in /usr/local/lib/python3.10/dist-packages (from ipywidgets>=7.6.0->ipycytoscape->qc-grader==0.18.10) (5.5.6)\n",
            "Requirement already satisfied: ipython-genutils~=0.2.0 in /usr/local/lib/python3.10/dist-packages (from ipywidgets>=7.6.0->ipycytoscape->qc-grader==0.18.10) (0.2.0)\n",
            "Requirement already satisfied: traitlets>=4.3.1 in /usr/local/lib/python3.10/dist-packages (from ipywidgets>=7.6.0->ipycytoscape->qc-grader==0.18.10) (5.7.1)\n",
            "Requirement already satisfied: widgetsnbextension~=3.6.0 in /usr/local/lib/python3.10/dist-packages (from ipywidgets>=7.6.0->ipycytoscape->qc-grader==0.18.10) (3.6.6)\n",
            "Requirement already satisfied: ipython>=4.0.0 in /usr/local/lib/python3.10/dist-packages (from ipywidgets>=7.6.0->ipycytoscape->qc-grader==0.18.10) (7.34.0)\n",
            "Requirement already satisfied: jupyterlab-widgets>=1.0.0 in /usr/local/lib/python3.10/dist-packages (from ipywidgets>=7.6.0->ipycytoscape->qc-grader==0.18.10) (3.0.11)\n",
            "Requirement already satisfied: jupyter-client in /usr/local/lib/python3.10/dist-packages (from ipykernel>=4.5.1->ipywidgets>=7.6.0->ipycytoscape->qc-grader==0.18.10) (6.1.12)\n",
            "Requirement already satisfied: tornado>=4.2 in /usr/local/lib/python3.10/dist-packages (from ipykernel>=4.5.1->ipywidgets>=7.6.0->ipycytoscape->qc-grader==0.18.10) (6.3.3)\n",
            "Requirement already satisfied: setuptools>=18.5 in /usr/local/lib/python3.10/dist-packages (from ipython>=4.0.0->ipywidgets>=7.6.0->ipycytoscape->qc-grader==0.18.10) (67.7.2)\n",
            "Requirement already satisfied: jedi>=0.16 in /usr/local/lib/python3.10/dist-packages (from ipython>=4.0.0->ipywidgets>=7.6.0->ipycytoscape->qc-grader==0.18.10) (0.19.1)\n",
            "Requirement already satisfied: decorator in /usr/local/lib/python3.10/dist-packages (from ipython>=4.0.0->ipywidgets>=7.6.0->ipycytoscape->qc-grader==0.18.10) (4.4.2)\n",
            "Requirement already satisfied: pickleshare in /usr/local/lib/python3.10/dist-packages (from ipython>=4.0.0->ipywidgets>=7.6.0->ipycytoscape->qc-grader==0.18.10) (0.7.5)\n",
            "Requirement already satisfied: prompt-toolkit!=3.0.0,!=3.0.1,<3.1.0,>=2.0.0 in /usr/local/lib/python3.10/dist-packages (from ipython>=4.0.0->ipywidgets>=7.6.0->ipycytoscape->qc-grader==0.18.10) (3.0.45)\n",
            "Requirement already satisfied: pygments in /usr/local/lib/python3.10/dist-packages (from ipython>=4.0.0->ipywidgets>=7.6.0->ipycytoscape->qc-grader==0.18.10) (2.16.1)\n",
            "Requirement already satisfied: backcall in /usr/local/lib/python3.10/dist-packages (from ipython>=4.0.0->ipywidgets>=7.6.0->ipycytoscape->qc-grader==0.18.10) (0.2.0)\n",
            "Requirement already satisfied: matplotlib-inline in /usr/local/lib/python3.10/dist-packages (from ipython>=4.0.0->ipywidgets>=7.6.0->ipycytoscape->qc-grader==0.18.10) (0.1.7)\n",
            "Requirement already satisfied: pexpect>4.3 in /usr/local/lib/python3.10/dist-packages (from ipython>=4.0.0->ipywidgets>=7.6.0->ipycytoscape->qc-grader==0.18.10) (4.9.0)\n",
            "Requirement already satisfied: notebook>=4.4.1 in /usr/local/lib/python3.10/dist-packages (from widgetsnbextension~=3.6.0->ipywidgets>=7.6.0->ipycytoscape->qc-grader==0.18.10) (6.5.5)\n",
            "Requirement already satisfied: parso<0.9.0,>=0.8.3 in /usr/local/lib/python3.10/dist-packages (from jedi>=0.16->ipython>=4.0.0->ipywidgets>=7.6.0->ipycytoscape->qc-grader==0.18.10) (0.8.4)\n",
            "Requirement already satisfied: jinja2 in /usr/local/lib/python3.10/dist-packages (from notebook>=4.4.1->widgetsnbextension~=3.6.0->ipywidgets>=7.6.0->ipycytoscape->qc-grader==0.18.10) (3.1.4)\n",
            "Requirement already satisfied: pyzmq<25,>=17 in /usr/local/lib/python3.10/dist-packages (from notebook>=4.4.1->widgetsnbextension~=3.6.0->ipywidgets>=7.6.0->ipycytoscape->qc-grader==0.18.10) (24.0.1)\n",
            "Requirement already satisfied: argon2-cffi in /usr/local/lib/python3.10/dist-packages (from notebook>=4.4.1->widgetsnbextension~=3.6.0->ipywidgets>=7.6.0->ipycytoscape->qc-grader==0.18.10) (23.1.0)\n",
            "Requirement already satisfied: jupyter-core>=4.6.1 in /usr/local/lib/python3.10/dist-packages (from notebook>=4.4.1->widgetsnbextension~=3.6.0->ipywidgets>=7.6.0->ipycytoscape->qc-grader==0.18.10) (5.7.2)\n",
            "Requirement already satisfied: nbformat in /usr/local/lib/python3.10/dist-packages (from notebook>=4.4.1->widgetsnbextension~=3.6.0->ipywidgets>=7.6.0->ipycytoscape->qc-grader==0.18.10) (5.10.4)\n",
            "Requirement already satisfied: nbconvert>=5 in /usr/local/lib/python3.10/dist-packages (from notebook>=4.4.1->widgetsnbextension~=3.6.0->ipywidgets>=7.6.0->ipycytoscape->qc-grader==0.18.10) (6.5.4)\n",
            "Requirement already satisfied: nest-asyncio>=1.5 in /usr/local/lib/python3.10/dist-packages (from notebook>=4.4.1->widgetsnbextension~=3.6.0->ipywidgets>=7.6.0->ipycytoscape->qc-grader==0.18.10) (1.6.0)\n",
            "Requirement already satisfied: Send2Trash>=1.8.0 in /usr/local/lib/python3.10/dist-packages (from notebook>=4.4.1->widgetsnbextension~=3.6.0->ipywidgets>=7.6.0->ipycytoscape->qc-grader==0.18.10) (1.8.3)\n",
            "Requirement already satisfied: terminado>=0.8.3 in /usr/local/lib/python3.10/dist-packages (from notebook>=4.4.1->widgetsnbextension~=3.6.0->ipywidgets>=7.6.0->ipycytoscape->qc-grader==0.18.10) (0.18.1)\n",
            "Requirement already satisfied: prometheus-client in /usr/local/lib/python3.10/dist-packages (from notebook>=4.4.1->widgetsnbextension~=3.6.0->ipywidgets>=7.6.0->ipycytoscape->qc-grader==0.18.10) (0.20.0)\n",
            "Requirement already satisfied: nbclassic>=0.4.7 in /usr/local/lib/python3.10/dist-packages (from notebook>=4.4.1->widgetsnbextension~=3.6.0->ipywidgets>=7.6.0->ipycytoscape->qc-grader==0.18.10) (1.1.0)\n",
            "Requirement already satisfied: python-dateutil>=2.1 in /usr/local/lib/python3.10/dist-packages (from jupyter-client->ipykernel>=4.5.1->ipywidgets>=7.6.0->ipycytoscape->qc-grader==0.18.10) (2.8.2)\n",
            "Requirement already satisfied: ptyprocess>=0.5 in /usr/local/lib/python3.10/dist-packages (from pexpect>4.3->ipython>=4.0.0->ipywidgets>=7.6.0->ipycytoscape->qc-grader==0.18.10) (0.7.0)\n",
            "Requirement already satisfied: wcwidth in /usr/local/lib/python3.10/dist-packages (from prompt-toolkit!=3.0.0,!=3.0.1,<3.1.0,>=2.0.0->ipython>=4.0.0->ipywidgets>=7.6.0->ipycytoscape->qc-grader==0.18.10) (0.2.13)\n",
            "Requirement already satisfied: platformdirs>=2.5 in /usr/local/lib/python3.10/dist-packages (from jupyter-core>=4.6.1->notebook>=4.4.1->widgetsnbextension~=3.6.0->ipywidgets>=7.6.0->ipycytoscape->qc-grader==0.18.10) (4.2.2)\n",
            "Requirement already satisfied: notebook-shim>=0.2.3 in /usr/local/lib/python3.10/dist-packages (from nbclassic>=0.4.7->notebook>=4.4.1->widgetsnbextension~=3.6.0->ipywidgets>=7.6.0->ipycytoscape->qc-grader==0.18.10) (0.2.4)\n",
            "Requirement already satisfied: lxml in /usr/local/lib/python3.10/dist-packages (from nbconvert>=5->notebook>=4.4.1->widgetsnbextension~=3.6.0->ipywidgets>=7.6.0->ipycytoscape->qc-grader==0.18.10) (4.9.4)\n",
            "Requirement already satisfied: beautifulsoup4 in /usr/local/lib/python3.10/dist-packages (from nbconvert>=5->notebook>=4.4.1->widgetsnbextension~=3.6.0->ipywidgets>=7.6.0->ipycytoscape->qc-grader==0.18.10) (4.12.3)\n",
            "Requirement already satisfied: bleach in /usr/local/lib/python3.10/dist-packages (from nbconvert>=5->notebook>=4.4.1->widgetsnbextension~=3.6.0->ipywidgets>=7.6.0->ipycytoscape->qc-grader==0.18.10) (6.1.0)\n",
            "Requirement already satisfied: defusedxml in /usr/local/lib/python3.10/dist-packages (from nbconvert>=5->notebook>=4.4.1->widgetsnbextension~=3.6.0->ipywidgets>=7.6.0->ipycytoscape->qc-grader==0.18.10) (0.7.1)\n",
            "Requirement already satisfied: entrypoints>=0.2.2 in /usr/local/lib/python3.10/dist-packages (from nbconvert>=5->notebook>=4.4.1->widgetsnbextension~=3.6.0->ipywidgets>=7.6.0->ipycytoscape->qc-grader==0.18.10) (0.4)\n",
            "Requirement already satisfied: jupyterlab-pygments in /usr/local/lib/python3.10/dist-packages (from nbconvert>=5->notebook>=4.4.1->widgetsnbextension~=3.6.0->ipywidgets>=7.6.0->ipycytoscape->qc-grader==0.18.10) (0.3.0)\n",
            "Requirement already satisfied: MarkupSafe>=2.0 in /usr/local/lib/python3.10/dist-packages (from nbconvert>=5->notebook>=4.4.1->widgetsnbextension~=3.6.0->ipywidgets>=7.6.0->ipycytoscape->qc-grader==0.18.10) (2.1.5)\n",
            "Requirement already satisfied: mistune<2,>=0.8.1 in /usr/local/lib/python3.10/dist-packages (from nbconvert>=5->notebook>=4.4.1->widgetsnbextension~=3.6.0->ipywidgets>=7.6.0->ipycytoscape->qc-grader==0.18.10) (0.8.4)\n",
            "Requirement already satisfied: nbclient>=0.5.0 in /usr/local/lib/python3.10/dist-packages (from nbconvert>=5->notebook>=4.4.1->widgetsnbextension~=3.6.0->ipywidgets>=7.6.0->ipycytoscape->qc-grader==0.18.10) (0.10.0)\n",
            "Requirement already satisfied: pandocfilters>=1.4.1 in /usr/local/lib/python3.10/dist-packages (from nbconvert>=5->notebook>=4.4.1->widgetsnbextension~=3.6.0->ipywidgets>=7.6.0->ipycytoscape->qc-grader==0.18.10) (1.5.1)\n",
            "Requirement already satisfied: tinycss2 in /usr/local/lib/python3.10/dist-packages (from nbconvert>=5->notebook>=4.4.1->widgetsnbextension~=3.6.0->ipywidgets>=7.6.0->ipycytoscape->qc-grader==0.18.10) (1.3.0)\n",
            "Requirement already satisfied: fastjsonschema>=2.15 in /usr/local/lib/python3.10/dist-packages (from nbformat->notebook>=4.4.1->widgetsnbextension~=3.6.0->ipywidgets>=7.6.0->ipycytoscape->qc-grader==0.18.10) (2.19.1)\n",
            "Requirement already satisfied: jsonschema>=2.6 in /usr/local/lib/python3.10/dist-packages (from nbformat->notebook>=4.4.1->widgetsnbextension~=3.6.0->ipywidgets>=7.6.0->ipycytoscape->qc-grader==0.18.10) (4.19.2)\n",
            "Requirement already satisfied: six>=1.5 in /usr/local/lib/python3.10/dist-packages (from python-dateutil>=2.1->jupyter-client->ipykernel>=4.5.1->ipywidgets>=7.6.0->ipycytoscape->qc-grader==0.18.10) (1.16.0)\n",
            "Requirement already satisfied: argon2-cffi-bindings in /usr/local/lib/python3.10/dist-packages (from argon2-cffi->notebook>=4.4.1->widgetsnbextension~=3.6.0->ipywidgets>=7.6.0->ipycytoscape->qc-grader==0.18.10) (21.2.0)\n",
            "Requirement already satisfied: attrs>=22.2.0 in /usr/local/lib/python3.10/dist-packages (from jsonschema>=2.6->nbformat->notebook>=4.4.1->widgetsnbextension~=3.6.0->ipywidgets>=7.6.0->ipycytoscape->qc-grader==0.18.10) (23.2.0)\n",
            "Requirement already satisfied: jsonschema-specifications>=2023.03.6 in /usr/local/lib/python3.10/dist-packages (from jsonschema>=2.6->nbformat->notebook>=4.4.1->widgetsnbextension~=3.6.0->ipywidgets>=7.6.0->ipycytoscape->qc-grader==0.18.10) (2023.12.1)\n",
            "Requirement already satisfied: referencing>=0.28.4 in /usr/local/lib/python3.10/dist-packages (from jsonschema>=2.6->nbformat->notebook>=4.4.1->widgetsnbextension~=3.6.0->ipywidgets>=7.6.0->ipycytoscape->qc-grader==0.18.10) (0.35.1)\n",
            "Requirement already satisfied: rpds-py>=0.7.1 in /usr/local/lib/python3.10/dist-packages (from jsonschema>=2.6->nbformat->notebook>=4.4.1->widgetsnbextension~=3.6.0->ipywidgets>=7.6.0->ipycytoscape->qc-grader==0.18.10) (0.18.1)\n",
            "Requirement already satisfied: jupyter-server<3,>=1.8 in /usr/local/lib/python3.10/dist-packages (from notebook-shim>=0.2.3->nbclassic>=0.4.7->notebook>=4.4.1->widgetsnbextension~=3.6.0->ipywidgets>=7.6.0->ipycytoscape->qc-grader==0.18.10) (1.24.0)\n",
            "Requirement already satisfied: cffi>=1.0.1 in /usr/local/lib/python3.10/dist-packages (from argon2-cffi-bindings->argon2-cffi->notebook>=4.4.1->widgetsnbextension~=3.6.0->ipywidgets>=7.6.0->ipycytoscape->qc-grader==0.18.10) (1.16.0)\n",
            "Requirement already satisfied: soupsieve>1.2 in /usr/local/lib/python3.10/dist-packages (from beautifulsoup4->nbconvert>=5->notebook>=4.4.1->widgetsnbextension~=3.6.0->ipywidgets>=7.6.0->ipycytoscape->qc-grader==0.18.10) (2.5)\n",
            "Requirement already satisfied: webencodings in /usr/local/lib/python3.10/dist-packages (from bleach->nbconvert>=5->notebook>=4.4.1->widgetsnbextension~=3.6.0->ipywidgets>=7.6.0->ipycytoscape->qc-grader==0.18.10) (0.5.1)\n",
            "Requirement already satisfied: pycparser in /usr/local/lib/python3.10/dist-packages (from cffi>=1.0.1->argon2-cffi-bindings->argon2-cffi->notebook>=4.4.1->widgetsnbextension~=3.6.0->ipywidgets>=7.6.0->ipycytoscape->qc-grader==0.18.10) (2.22)\n",
            "Requirement already satisfied: anyio<4,>=3.1.0 in /usr/local/lib/python3.10/dist-packages (from jupyter-server<3,>=1.8->notebook-shim>=0.2.3->nbclassic>=0.4.7->notebook>=4.4.1->widgetsnbextension~=3.6.0->ipywidgets>=7.6.0->ipycytoscape->qc-grader==0.18.10) (3.7.1)\n",
            "Requirement already satisfied: websocket-client in /usr/local/lib/python3.10/dist-packages (from jupyter-server<3,>=1.8->notebook-shim>=0.2.3->nbclassic>=0.4.7->notebook>=4.4.1->widgetsnbextension~=3.6.0->ipywidgets>=7.6.0->ipycytoscape->qc-grader==0.18.10) (1.8.0)\n",
            "Requirement already satisfied: idna>=2.8 in /usr/local/lib/python3.10/dist-packages (from anyio<4,>=3.1.0->jupyter-server<3,>=1.8->notebook-shim>=0.2.3->nbclassic>=0.4.7->notebook>=4.4.1->widgetsnbextension~=3.6.0->ipywidgets>=7.6.0->ipycytoscape->qc-grader==0.18.10) (3.7)\n",
            "Requirement already satisfied: sniffio>=1.1 in /usr/local/lib/python3.10/dist-packages (from anyio<4,>=3.1.0->jupyter-server<3,>=1.8->notebook-shim>=0.2.3->nbclassic>=0.4.7->notebook>=4.4.1->widgetsnbextension~=3.6.0->ipywidgets>=7.6.0->ipycytoscape->qc-grader==0.18.10) (1.3.1)\n",
            "Requirement already satisfied: exceptiongroup in /usr/local/lib/python3.10/dist-packages (from anyio<4,>=3.1.0->jupyter-server<3,>=1.8->notebook-shim>=0.2.3->nbclassic>=0.4.7->notebook>=4.4.1->widgetsnbextension~=3.6.0->ipywidgets>=7.6.0->ipycytoscape->qc-grader==0.18.10) (1.2.1)\n"
          ]
        }
      ],
      "source": [
        "### Install the other required packages as well\n",
        "\n",
        "!pip install qiskit_aer\n",
        "!pip install qiskit_ibm_runtime\n",
        "!pip install matplotlib\n",
        "!pip install pylatexenc\n",
        "!pip install qiskit-transpiler-service\n",
        "!pip install git+https://github.com/qiskit-community/Quantum-Challenge-Grader.git"
      ]
    },
    {
      "cell_type": "code",
      "execution_count": null,
      "id": "ac6c29c2-b0a2-4086-9ff0-01ffb2bde0f6",
      "metadata": {
        "colab": {
          "base_uri": "https://localhost:8080/"
        },
        "id": "ac6c29c2-b0a2-4086-9ff0-01ffb2bde0f6",
        "outputId": "49afbf6b-4f1a-41e0-d2df-36f1b475d22c"
      },
      "outputs": [
        {
          "output_type": "stream",
          "name": "stdout",
          "text": [
            "env: QXToken=deleteThisAndPasteYourTokenHere\n"
          ]
        }
      ],
      "source": [
        "# Save your API token to track your progress\n",
        "\n",
        "%set_env QXToken=deleteThisAndPasteYourTokenHere\n",
        "\n",
        "# Make sure there is no space between the equal sign\n",
        "# and the beginning of your token"
      ]
    },
    {
      "cell_type": "code",
      "execution_count": null,
      "id": "6bb858d6-c609-4fd2-be6d-06dd12f26c86",
      "metadata": {
        "colab": {
          "base_uri": "https://localhost:8080/"
        },
        "id": "6bb858d6-c609-4fd2-be6d-06dd12f26c86",
        "outputId": "9aed92de-81e2-4edf-d15e-a59c0ab35047"
      },
      "outputs": [
        {
          "output_type": "stream",
          "name": "stdout",
          "text": [
            "env: QXToken=b0de4bbc695a1821b5c24b6b64cf985a31dde25c019725b5b2b406d6dce9a7daa91966a4041a806d3c63a55248acc54bebcf2a1d07fd5f8957cc832ba6a1c3d1\n"
          ]
        }
      ],
      "source": [
        "# Save your API token to track your progress\n",
        "\n",
        "%set_env QXToken= b0de4bbc695a1821b5c24b6b64cf985a31dde25c019725b5b2b406d6dce9a7daa91966a4041a806d3c63a55248acc54bebcf2a1d07fd5f8957cc832ba6a1c3d1\n",
        "\n",
        "# Make sure there is no space between the equal sign\n",
        "# and the beginning of your token"
      ]
    },
    {
      "cell_type": "code",
      "execution_count": null,
      "id": "bd671437-fa6c-4320-ac51-c6d8b9ae01c3",
      "metadata": {
        "colab": {
          "base_uri": "https://localhost:8080/"
        },
        "id": "bd671437-fa6c-4320-ac51-c6d8b9ae01c3",
        "outputId": "e715eb51-3a7e-4db4-c608-6cd75beba8cf"
      },
      "outputs": [
        {
          "output_type": "stream",
          "name": "stdout",
          "text": [
            "\u001b[31mERROR: Could not find a version that satisfies the requirement qiskit-transpiler-service--upgrade (from versions: none)\u001b[0m\u001b[31m\n",
            "\u001b[0m\u001b[31mERROR: No matching distribution found for qiskit-transpiler-service--upgrade\u001b[0m\u001b[31m\n",
            "\u001b[0m"
          ]
        }
      ],
      "source": [
        "!pip install qiskit-transpiler-service--upgrade"
      ]
    },
    {
      "cell_type": "code",
      "execution_count": null,
      "id": "a90e2e07-134f-4c45-9b17-1e5e45168ae0",
      "metadata": {
        "colab": {
          "base_uri": "https://localhost:8080/"
        },
        "id": "a90e2e07-134f-4c45-9b17-1e5e45168ae0",
        "outputId": "e4dd0db4-c9af-4948-c8fc-e1c530cf0102"
      },
      "outputs": [
        {
          "output_type": "stream",
          "name": "stdout",
          "text": [
            "2.7.3\n"
          ]
        }
      ],
      "source": [
        "import pydantic\n",
        "print(pydantic.__version__)\n"
      ]
    },
    {
      "cell_type": "code",
      "execution_count": null,
      "id": "3563f332-21a3-4f5a-a37b-79b531460ea7",
      "metadata": {
        "id": "3563f332-21a3-4f5a-a37b-79b531460ea7"
      },
      "outputs": [],
      "source": [
        "from qiskit import QuantumCircuit\n",
        "from qiskit.quantum_info import SparsePauliOp\n",
        "from qiskit_ibm_runtime import EstimatorV2 as Estimator\n",
        "from qiskit_aer import AerSimulator\n",
        "import matplotlib.pyplot as plt\n",
        "from qc_grader.challenges.iqc_2024 import grade_lab0_ex1"
      ]
    },
    {
      "cell_type": "code",
      "execution_count": null,
      "id": "784bfcfd-c933-4557-94b6-060b0fac1b8d",
      "metadata": {
        "colab": {
          "base_uri": "https://localhost:8080/"
        },
        "id": "784bfcfd-c933-4557-94b6-060b0fac1b8d",
        "outputId": "ef5ed31f-ef16-4384-f666-4430767b3dcb"
      },
      "outputs": [
        {
          "output_type": "stream",
          "name": "stdout",
          "text": [
            "2.7.3\n"
          ]
        }
      ],
      "source": [
        "import pydantic\n",
        "print(pydantic.__version__)\n"
      ]
    },
    {
      "cell_type": "code",
      "execution_count": null,
      "id": "22a4efdd-5a2a-47f1-8140-20a1fb9541b1",
      "metadata": {
        "id": "22a4efdd-5a2a-47f1-8140-20a1fb9541b1"
      },
      "outputs": [],
      "source": [
        "from qiskit_aer import AerSimulator\n",
        "import matplotlib.pyplot as plt\n",
        "from qc_grader.challenges.iqc_2024 import grade_lab0_ex1"
      ]
    },
    {
      "cell_type": "code",
      "execution_count": null,
      "id": "da1178e6-5232-4195-84c4-a223455c615e",
      "metadata": {
        "colab": {
          "base_uri": "https://localhost:8080/"
        },
        "id": "da1178e6-5232-4195-84c4-a223455c615e",
        "outputId": "e2ea6be7-6bfc-41ca-cb82-51fba23f3d93"
      },
      "outputs": [
        {
          "output_type": "stream",
          "name": "stdout",
          "text": [
            "Name: pylatexenc\n",
            "Version: 2.10\n",
            "Summary: Simple LaTeX parser providing latex-to-unicode and unicode-to-latex conversion\n",
            "Home-page: https://github.com/phfaist/pylatexenc\n",
            "Author: Philippe Faist\n",
            "Author-email: philippe.faist@bluewin.ch\n",
            "License: MIT\n",
            "Location: /usr/local/lib/python3.10/dist-packages\n",
            "Requires: \n",
            "Required-by: \n",
            "---\n",
            "Name: matplotlib\n",
            "Version: 3.7.1\n",
            "Summary: Python plotting package\n",
            "Home-page: https://matplotlib.org\n",
            "Author: John D. Hunter, Michael Droettboom\n",
            "Author-email: matplotlib-users@python.org\n",
            "License: PSF\n",
            "Location: /usr/local/lib/python3.10/dist-packages\n",
            "Requires: contourpy, cycler, fonttools, kiwisolver, numpy, packaging, pillow, pyparsing, python-dateutil\n",
            "Required-by: arviz, bigframes, datascience, fastai, geemap, imgaug, matplotlib-venn, missingno, mizani, mlxtend, music21, plotnine, prophet, pycocotools, seaborn, wordcloud, yellowbrick\n",
            "---\n",
            "Name: qc-grader\n",
            "Version: 0.18.10\n",
            "Summary: Grading client for the IBM Quantum Challenge\n",
            "Home-page: https://quantum.ibm.com/\n",
            "Author: IBM Quantum Community Team\n",
            "Author-email: \n",
            "License: Apache 2.0\n",
            "Location: /usr/local/lib/python3.10/dist-packages\n",
            "Requires: ipycytoscape, jsonpickle, networkx, plotly, typeguard\n",
            "Required-by: \n"
          ]
        }
      ],
      "source": [
        "### CHECK OTHER DEPENDENCIES\n",
        "!pip show pylatexenc matplotlib qc_grader\n",
        "\n",
        "#qc-grader should be 0.18.8 (or higher)"
      ]
    },
    {
      "cell_type": "code",
      "execution_count": null,
      "id": "1a0bd810-7358-4ac4-939b-38934ddb4818",
      "metadata": {
        "colab": {
          "base_uri": "https://localhost:8080/",
          "height": 191
        },
        "id": "1a0bd810-7358-4ac4-939b-38934ddb4818",
        "outputId": "5512092a-141a-4029-c339-587e59a924d7"
      },
      "outputs": [
        {
          "output_type": "execute_result",
          "data": {
            "text/plain": [
              "<Figure size 287.294x200.667 with 1 Axes>"
            ],
            "image/png": "[encoded data removed]"
          },
          "metadata": {},
          "execution_count": 14
        }
      ],
      "source": [
        "# Create a new circuit with two qubits\n",
        "qc = QuantumCircuit(2)\n",
        "\n",
        "# Add a Hadamard gate to qubit 0\n",
        "qc.h(0)\n",
        "\n",
        "# Perform a CNOT gate on qubit 1, controlled by qubit 0\n",
        "qc.cx(0, 1)\n",
        "\n",
        "# Return a drawing of the circuit using MatPlotLib (\"mpl\"). This is the\n",
        "# last line of the cell, so the drawing appears in the cell output.\n",
        "qc.draw(\"mpl\")"
      ]
    },
    {
      "cell_type": "code",
      "execution_count": null,
      "id": "43ea2085-59b9-4672-ae7b-294d1cd16508",
      "metadata": {
        "id": "43ea2085-59b9-4672-ae7b-294d1cd16508"
      },
      "outputs": [],
      "source": [
        "# The ZZ applies a Z operator on qubit 0, and a Z operator on qubit 1\n",
        "ZZ = SparsePauliOp('ZZ')\n",
        "\n",
        "# The ZI applies a Z operator on qubit 0, and an Identity operator on qubit 1\n",
        "ZI = SparsePauliOp('ZI')\n",
        "\n",
        "# The IX applies an Identity operator on qubit 0, and an X operator on qubit 1\n",
        "IX = SparsePauliOp('IX')\n",
        "\n",
        "\n",
        "\n",
        "### Write your code below here ###\n",
        "### Follow the same naming convention we used above\n",
        "IZ=SparsePauliOp('IZ')\n",
        "\n",
        "XX=SparsePauliOp('XX')\n",
        "\n",
        "XI=SparsePauliOp('XI')\n",
        "\n",
        "\n",
        "\n",
        "## Don't change any code past this line, but remember to run the cell.\n",
        "\n",
        "observables = [IZ, IX, ZI, XI, ZZ, XX]"
      ]
    },
    {
      "cell_type": "code",
      "execution_count": null,
      "id": "fe604a74-ae4c-4e74-b30d-5138b3455f76",
      "metadata": {
        "colab": {
          "base_uri": "https://localhost:8080/",
          "height": 191
        },
        "id": "fe604a74-ae4c-4e74-b30d-5138b3455f76",
        "outputId": "dc53a5c3-1fbd-4d6c-a6c4-340f81635389"
      },
      "outputs": [
        {
          "output_type": "execute_result",
          "data": {
            "text/plain": [
              "<Figure size 287.294x200.667 with 1 Axes>"
            ],
            "image/png": "[encoded data removed]"
          },
          "metadata": {},
          "execution_count": 16
        }
      ],
      "source": [
        "qc.draw(\"mpl\")"
      ]
    },
    {
      "cell_type": "code",
      "execution_count": null,
      "id": "ee6f00b0-5906-477b-b2d2-4c87ea2f3f8c",
      "metadata": {
        "colab": {
          "base_uri": "https://localhost:8080/"
        },
        "id": "ee6f00b0-5906-477b-b2d2-4c87ea2f3f8c",
        "outputId": "c5e98cc9-54f4-4ccf-e3d4-e074975b3aac"
      },
      "outputs": [
        {
          "output_type": "stream",
          "name": "stdout",
          "text": [
            "Submitting your answer. Please wait...\n",
            "Congratulations 🎉! Your answer is correct and has been submitted.\n"
          ]
        }
      ],
      "source": [
        "# Submit your answer using following code\n",
        "\n",
        "grade_lab0_ex1(observables)"
      ]
    },
    {
      "cell_type": "code",
      "execution_count": null,
      "id": "0e317e40-c4f3-4c8f-b8c1-b51e170d7cf0",
      "metadata": {
        "id": "0e317e40-c4f3-4c8f-b8c1-b51e170d7cf0"
      },
      "outputs": [],
      "source": [
        "# Set up the Estimator\n",
        "estimator = Estimator(backend=AerSimulator())\n",
        "\n",
        "# Submit the circuit to Estimator\n",
        "pub = (qc, observables)\n",
        "\n",
        "job = estimator.run(pubs=[pub])"
      ]
    },
    {
      "cell_type": "code",
      "execution_count": null,
      "id": "e53b22b8-61bc-41ca-b028-a950badfed65",
      "metadata": {
        "colab": {
          "base_uri": "https://localhost:8080/",
          "height": 449
        },
        "id": "e53b22b8-61bc-41ca-b028-a950badfed65",
        "outputId": "6ef20a68-3a0b-4d79-9a28-527ae07a9dfd"
      },
      "outputs": [
        {
          "output_type": "display_data",
          "data": {
            "text/plain": [
              "<Figure size 640x480 with 1 Axes>"
            ],
            "image/png": "[encoded data removed]"
          },
          "metadata": {}
        }
      ],
      "source": [
        "# Collect the data\n",
        "data = ['IZ', 'IX', 'ZI', 'XI', 'ZZ', 'XX']\n",
        "values = job.result()[0].data.evs\n",
        "\n",
        "# Set up our graph\n",
        "container = plt.plot(data, values, '-o')\n",
        "\n",
        "# Label each axis\n",
        "plt.xlabel('Observables')\n",
        "plt.ylabel('Values')\n",
        "\n",
        "# Draw the final graph\n",
        "plt.show()"
      ]
    },
    {
      "cell_type": "code",
      "execution_count": null,
      "id": "5759624a-4e91-4328-af0f-bc7c21dabd08",
      "metadata": {
        "colab": {
          "base_uri": "https://localhost:8080/",
          "height": 449
        },
        "id": "5759624a-4e91-4328-af0f-bc7c21dabd08",
        "outputId": "b00fdc4b-3a10-4019-e227-ce811a9d8733"
      },
      "outputs": [
        {
          "output_type": "display_data",
          "data": {
            "text/plain": [
              "<Figure size 640x480 with 1 Axes>"
            ],
            "image/png": "[encoded data removed]"
          },
          "metadata": {}
        }
      ],
      "source": [
        "container = plt.bar(data, values, width=0.8)\n",
        "\n",
        "plt.xlabel('Observables')\n",
        "plt.ylabel('Values')\n",
        "\n",
        "plt.show()"
      ]
    },
    {
      "cell_type": "code",
      "execution_count": null,
      "id": "55c32434-05d7-4db0-91e7-85b7bc0760d4",
      "metadata": {
        "id": "55c32434-05d7-4db0-91e7-85b7bc0760d4"
      },
      "outputs": [],
      "source": [
        "import numpy as np\n",
        "from typing import List, Callable\n",
        "from scipy.optimize import minimize\n",
        "from scipy.optimize._optimize import OptimizeResult\n",
        "import matplotlib.pyplot as plt\n",
        "\n",
        "from qiskit import QuantumCircuit\n",
        "from qiskit.quantum_info import Statevector, Operator, SparsePauliOp\n",
        "from qiskit.primitives import StatevectorSampler, PrimitiveJob\n",
        "from qiskit.circuit.library import TwoLocal\n",
        "from qiskit.transpiler.preset_passmanagers import generate_preset_pass_manager\n",
        "from qiskit.visualization import plot_histogram\n",
        "from qiskit_ibm_runtime.fake_provider import FakeSherbrooke\n",
        "from qiskit_ibm_runtime import Session, EstimatorV2 as Estimator\n",
        "from qiskit_aer import AerSimulator"
      ]
    },
    {
      "cell_type": "code",
      "source": [
        "# Setup the grader\n",
        "from qc_grader.challenges.iqc_2024 import (\n",
        "    grade_lab1_ex1,\n",
        "    grade_lab1_ex2,\n",
        "    grade_lab1_ex3,\n",
        "    grade_lab1_ex4,\n",
        "    grade_lab1_ex5,\n",
        "    grade_lab1_ex6,\n",
        "    grade_lab1_ex7,\n",
        ")"
      ],
      "metadata": {
        "id": "lhYAwQDDjKRf"
      },
      "id": "lhYAwQDDjKRf",
      "execution_count": null,
      "outputs": []
    },
    {
      "cell_type": "code",
      "source": [
        "# Build a circuit to form a psi-minus Bell state\n",
        "# Apply gates to the provided QuantumCircuit, qc\n",
        "\n",
        "qc = QuantumCircuit(2)\n",
        "\n",
        "### Write your code below here ###\n",
        "qc.h(0)\n",
        "qc.cx(0,1)\n",
        "qc.z(0)\n",
        "qc.x(1)\n",
        "\n",
        "\n",
        "### Don't change any code past this line ###\n",
        "qc.measure_all()\n",
        "qc.draw('mpl')"
      ],
      "metadata": {
        "colab": {
          "base_uri": "https://localhost:8080/",
          "height": 255
        },
        "id": "C3yd-CrSjXN9",
        "outputId": "a4fd60d4-11d7-43d5-dce7-1a79d3bce2da"
      },
      "id": "C3yd-CrSjXN9",
      "execution_count": null,
      "outputs": [
        {
          "output_type": "execute_result",
          "data": {
            "text/plain": [
              "<Figure size 663.998x284.278 with 1 Axes>"
            ],
            "image/png": "[encoded data removed]"
          },
          "metadata": {},
          "execution_count": 23
        }
      ]
    },
    {
      "cell_type": "code",
      "source": [
        "# Submit your answer using following code\n",
        "\n",
        "grade_lab1_ex1(qc) # Expected result type: QuantumCircuit"
      ],
      "metadata": {
        "colab": {
          "base_uri": "https://localhost:8080/"
        },
        "id": "y2Zxe7ykl1bG",
        "outputId": "c6c47233-c130-4ba9-a10a-f0dbbb3516ab"
      },
      "id": "y2Zxe7ykl1bG",
      "execution_count": null,
      "outputs": [
        {
          "output_type": "stream",
          "name": "stdout",
          "text": [
            "Submitting your answer. Please wait...\n",
            "Congratulations 🎉! Your answer is correct and has been submitted.\n"
          ]
        }
      ]
    },
    {
      "cell_type": "code",
      "source": [
        "qc.measure_all()\n",
        "\n",
        "\n",
        "sampler = StatevectorSampler()\n",
        "pub = (qc,)\n",
        "job_sampler = sampler.run([pub],shots=256)\n",
        "\n",
        "\n",
        "### Don't change any code past this line ###\n",
        "\n",
        "result_sampler = job_sampler.result()\n",
        "counts_sampler = result_sampler[0].data.meas.get_counts()\n",
        "\n",
        "print(counts_sampler)"
      ],
      "metadata": {
        "id": "Y2urJtIFl7ni",
        "colab": {
          "base_uri": "https://localhost:8080/"
        },
        "outputId": "c0c38f45-cd83-4551-c00e-3a1d14226f10"
      },
      "id": "Y2urJtIFl7ni",
      "execution_count": null,
      "outputs": [
        {
          "output_type": "stream",
          "name": "stdout",
          "text": [
            "{'10': 127, '01': 129}\n"
          ]
        }
      ]
    },
    {
      "cell_type": "code",
      "source": [
        "# Submit your answer using following code\n",
        "\n",
        "grade_lab1_ex2(job_sampler) # Expected result type: PrimitiveJob"
      ],
      "metadata": {
        "colab": {
          "base_uri": "https://localhost:8080/"
        },
        "id": "THCYXp1CAUJz",
        "outputId": "de547a0b-19f0-4d47-d983-90a82ff1f230"
      },
      "id": "THCYXp1CAUJz",
      "execution_count": null,
      "outputs": [
        {
          "output_type": "stream",
          "name": "stdout",
          "text": [
            "Submitting your answer. Please wait...\n",
            "Congratulations 🎉! Your answer is correct and has been submitted.\n"
          ]
        }
      ]
    },
    {
      "cell_type": "code",
      "source": [
        "plot_histogram(counts_sampler)"
      ],
      "metadata": {
        "colab": {
          "base_uri": "https://localhost:8080/",
          "height": 461
        },
        "id": "q5tN-jVHZ8QB",
        "outputId": "e964395c-bc88-4b23-ac1d-fdde11293be2"
      },
      "id": "q5tN-jVHZ8QB",
      "execution_count": null,
      "outputs": [
        {
          "output_type": "execute_result",
          "data": {
            "text/plain": [
              "<Figure size 700x500 with 1 Axes>"
            ],
            "image/png": "[encoded data removed]"
          },
          "metadata": {},
          "execution_count": 27
        }
      ]
    },
    {
      "cell_type": "code",
      "source": [
        "# Step 1\n",
        "qc = QuantumCircuit(3)\n",
        "\n",
        "# Step 2 (provided)\n",
        "qc.ry(1.91063324, 0)\n",
        "\n",
        "# Add steps 3-6 below\n",
        "qc.ch(0,1)\n",
        "qc.cx(1,2)\n",
        "qc.cx(0,1)\n",
        "qc.x(0)\n",
        "\n",
        "\n",
        "### Don't change any code past this line ###\n",
        "qc.measure_all()\n",
        "qc.draw('mpl')"
      ],
      "metadata": {
        "colab": {
          "base_uri": "https://localhost:8080/",
          "height": 320
        },
        "id": "rqnZcNFyaDJg",
        "outputId": "090b147b-a12e-41ad-e6bb-c9e9101cf221"
      },
      "id": "rqnZcNFyaDJg",
      "execution_count": null,
      "outputs": [
        {
          "output_type": "execute_result",
          "data": {
            "text/plain": [
              "<Figure size 914.831x367.889 with 1 Axes>"
            ],
            "image/png": "[encoded data removed]"
          },
          "metadata": {},
          "execution_count": 28
        }
      ]
    },
    {
      "cell_type": "code",
      "source": [
        "# Submit your answer using following code\n",
        "\n",
        "grade_lab1_ex3(qc) # Expected result type: # Expected result type: QuantumCircuit"
      ],
      "metadata": {
        "colab": {
          "base_uri": "https://localhost:8080/"
        },
        "id": "8l6cI0MLcA-j",
        "outputId": "2ebac52e-25ee-46a8-da6d-6206c7af3fb7"
      },
      "id": "8l6cI0MLcA-j",
      "execution_count": null,
      "outputs": [
        {
          "output_type": "stream",
          "name": "stdout",
          "text": [
            "Submitting your answer. Please wait...\n",
            "Congratulations 🎉! Your answer is correct and has been submitted.\n"
          ]
        }
      ]
    },
    {
      "cell_type": "code",
      "source": [
        "sampler = StatevectorSampler()\n",
        "pub = (qc)\n",
        "job_sampler = sampler.run([pub], shots=10000)\n",
        "\n",
        "result_sampler = job_sampler.result()\n",
        "counts_sampler = result_sampler[0].data.meas.get_counts()\n",
        "\n",
        "print(counts_sampler)"
      ],
      "metadata": {
        "colab": {
          "base_uri": "https://localhost:8080/"
        },
        "id": "s7L7yNzScE4s",
        "outputId": "fea6e8af-c534-436c-b908-5954549b51d6"
      },
      "id": "s7L7yNzScE4s",
      "execution_count": null,
      "outputs": [
        {
          "output_type": "stream",
          "name": "stdout",
          "text": [
            "{'010': 3381, '001': 3274, '100': 3345}\n"
          ]
        }
      ]
    },
    {
      "cell_type": "code",
      "source": [
        "plot_histogram(counts_sampler)"
      ],
      "metadata": {
        "colab": {
          "base_uri": "https://localhost:8080/",
          "height": 472
        },
        "id": "Azifw-MIcMxp",
        "outputId": "7e31e200-a9c9-4e29-e994-86345b0d2a7d"
      },
      "id": "Azifw-MIcMxp",
      "execution_count": null,
      "outputs": [
        {
          "output_type": "execute_result",
          "data": {
            "text/plain": [
              "<Figure size 700x500 with 1 Axes>"
            ],
            "image/png": "[encoded data removed]"
          },
          "metadata": {},
          "execution_count": 31
        }
      ]
    },
    {
      "cell_type": "code",
      "source": [
        "pauli_op = SparsePauliOp(['ZII', 'IZI', 'IIZ'])\n",
        "print(pauli_op.to_matrix())"
      ],
      "metadata": {
        "colab": {
          "base_uri": "https://localhost:8080/"
        },
        "id": "GI_fZLlOcS5z",
        "outputId": "2124e51c-f373-4928-bde5-ece20226dcbe"
      },
      "id": "GI_fZLlOcS5z",
      "execution_count": null,
      "outputs": [
        {
          "output_type": "stream",
          "name": "stdout",
          "text": [
            "[[ 3.+0.j  0.+0.j  0.+0.j  0.+0.j  0.+0.j  0.+0.j  0.+0.j  0.+0.j]\n",
            " [ 0.+0.j  1.+0.j  0.+0.j  0.+0.j  0.+0.j  0.+0.j  0.+0.j  0.+0.j]\n",
            " [ 0.+0.j  0.+0.j  1.+0.j  0.+0.j  0.+0.j  0.+0.j  0.+0.j  0.+0.j]\n",
            " [ 0.+0.j  0.+0.j  0.+0.j -1.+0.j  0.+0.j  0.+0.j  0.+0.j  0.+0.j]\n",
            " [ 0.+0.j  0.+0.j  0.+0.j  0.+0.j  1.+0.j  0.+0.j  0.+0.j  0.+0.j]\n",
            " [ 0.+0.j  0.+0.j  0.+0.j  0.+0.j  0.+0.j -1.+0.j  0.+0.j  0.+0.j]\n",
            " [ 0.+0.j  0.+0.j  0.+0.j  0.+0.j  0.+0.j  0.+0.j -1.+0.j  0.+0.j]\n",
            " [ 0.+0.j  0.+0.j  0.+0.j  0.+0.j  0.+0.j  0.+0.j  0.+0.j -3.+0.j]]\n"
          ]
        }
      ]
    },
    {
      "cell_type": "code",
      "source": [
        "num_qubits = 3\n",
        "rotation_blocks = ['ry','rz']\n",
        "entanglement_blocks = 'cz'\n",
        "entanglement = 'full'\n",
        "\n",
        "ansatz = TwoLocal(num_qubits, rotation_blocks, entanglement_blocks, entanglement, reps=1, insert_barriers=True)\n",
        "\n",
        "\n",
        "### Don't change any code past this line ###\n",
        "ansatz.decompose().draw('mpl')"
      ],
      "metadata": {
        "colab": {
          "base_uri": "https://localhost:8080/",
          "height": 255
        },
        "id": "y4Vp304uc442",
        "outputId": "11fdbea5-0cc3-4e2e-e49f-4be7edab5080"
      },
      "id": "y4Vp304uc442",
      "execution_count": null,
      "outputs": [
        {
          "output_type": "execute_result",
          "data": {
            "text/plain": [
              "<Figure size 872.774x284.278 with 1 Axes>"
            ],
            "image/png": "[encoded data removed]"
          },
          "metadata": {},
          "execution_count": 33
        }
      ]
    },
    {
      "cell_type": "code",
      "source": [
        "# Submit your answer using following code\n",
        "\n",
        "grade_lab1_ex4(num_qubits, rotation_blocks, entanglement_blocks, entanglement) # Expected result type: int, List[str], str, str"
      ],
      "metadata": {
        "colab": {
          "base_uri": "https://localhost:8080/"
        },
        "id": "lbQ2lEhDiw1T",
        "outputId": "35d007e8-0994-41b7-ff7b-f3d1fcd17e63"
      },
      "id": "lbQ2lEhDiw1T",
      "execution_count": null,
      "outputs": [
        {
          "output_type": "stream",
          "name": "stdout",
          "text": [
            "Submitting your answer. Please wait...\n",
            "Congratulations 🎉! Your answer is correct and has been submitted.\n"
          ]
        }
      ]
    },
    {
      "cell_type": "code",
      "source": [
        "num_params = ansatz.num_parameters\n",
        "num_params"
      ],
      "metadata": {
        "colab": {
          "base_uri": "https://localhost:8080/"
        },
        "id": "8a5wORi9jRe5",
        "outputId": "0de11bd6-53ca-478c-d29e-0e50d5af75fd"
      },
      "id": "8a5wORi9jRe5",
      "execution_count": null,
      "outputs": [
        {
          "output_type": "execute_result",
          "data": {
            "text/plain": [
              "12"
            ]
          },
          "metadata": {},
          "execution_count": 35
        }
      ]
    },
    {
      "cell_type": "code",
      "source": [],
      "metadata": {
        "id": "8Uu6VSTnkeDA"
      },
      "id": "8Uu6VSTnkeDA",
      "execution_count": null,
      "outputs": []
    },
    {
      "cell_type": "code",
      "source": [],
      "metadata": {
        "id": "_LwyIxkwrnI-"
      },
      "id": "_LwyIxkwrnI-",
      "execution_count": null,
      "outputs": []
    },
    {
      "cell_type": "code",
      "source": [],
      "metadata": {
        "id": "hkLtusJ_tDrh"
      },
      "id": "hkLtusJ_tDrh",
      "execution_count": null,
      "outputs": []
    },
    {
      "cell_type": "code",
      "source": [],
      "metadata": {
        "id": "zRn_i4e0tJ7A"
      },
      "id": "zRn_i4e0tJ7A",
      "execution_count": null,
      "outputs": []
    },
    {
      "cell_type": "code",
      "source": [
        "from qiskit import transpile\n",
        "backend_answer = FakeSherbrooke()\n",
        "optimization_level_answer = 1\n",
        "pm = generate_preset_pass_manager(backend=backend_answer,optimization_level=optimization_level_answer)\n",
        "isa_circuit = transpile(ansatz, backend=backend_answer, optimization_level=optimization_level_answer)"
      ],
      "metadata": {
        "id": "7OAKNw09uc5P"
      },
      "id": "7OAKNw09uc5P",
      "execution_count": null,
      "outputs": []
    },
    {
      "cell_type": "code",
      "source": [
        "# Submit your answer using following code\n",
        "\n",
        "grade_lab1_ex5(isa_circuit) # Expected result type: QuantumCircuit"
      ],
      "metadata": {
        "colab": {
          "base_uri": "https://localhost:8080/"
        },
        "id": "JRwF-BErujM1",
        "outputId": "4e304d6b-7e09-4bd6-8ed2-47b8ebedf68f"
      },
      "id": "JRwF-BErujM1",
      "execution_count": null,
      "outputs": [
        {
          "output_type": "stream",
          "name": "stdout",
          "text": [
            "Submitting your answer. Please wait...\n",
            "Congratulations 🎉! Your answer is correct and has been submitted.\n"
          ]
        }
      ]
    },
    {
      "cell_type": "code",
      "source": [
        "isa_circuit.draw('mpl', idle_wires=False,)"
      ],
      "metadata": {
        "colab": {
          "base_uri": "https://localhost:8080/",
          "height": 404
        },
        "id": "NfCSo5O5xo_k",
        "outputId": "95ccfce7-310d-4bf1-f339-34e2990eebb5"
      },
      "id": "NfCSo5O5xo_k",
      "execution_count": null,
      "outputs": [
        {
          "output_type": "execute_result",
          "data": {
            "text/plain": [
              "<Figure size 2299.9x618.722 with 1 Axes>"
            ],
            "image/png": "[encoded data removed]"
          },
          "metadata": {},
          "execution_count": 40
        }
      ]
    },
    {
      "cell_type": "code",
      "source": [
        "# Define our Hamiltonian\n",
        "hamiltonian_isa = pauli_op.apply_layout(layout=isa_circuit.layout)"
      ],
      "metadata": {
        "id": "OblZZveexwgR"
      },
      "id": "OblZZveexwgR",
      "execution_count": null,
      "outputs": []
    },
    {
      "cell_type": "code",
      "source": [
        "def cost_func(params, ansatz, hamiltonian, estimator, callback_dict):\n",
        "    \"\"\"Return estimate of energy from estimator\n",
        "\n",
        "    Parameters:\n",
        "        params (ndarray): Array of ansatz parameters\n",
        "        ansatz (QuantumCircuit): Parameterized ansatz circuit\n",
        "        hamiltonian (SparsePauliOp): Operator representation of Hamiltonian\n",
        "        estimator (EstimatorV2): Estimator primitive instance\n",
        "\n",
        "    Returns:\n",
        "        float: Energy estimate\n",
        "    \"\"\"\n",
        "    pub = #Add your code\n",
        "    result = #Add your code\n",
        "    energy = #Add your code\n",
        "\n",
        "    callback_dict[\"iters\"] += #Add your code\n",
        "    callback_dict[\"prev_vector\"] = #Add your code\n",
        "    callback_dict[\"cost_history\"].#Add your code\n",
        "\n",
        "\n",
        "### Don't change any code past this line ###\n",
        "    print(energy)\n",
        "    return energy, result"
      ],
      "metadata": {
        "id": "WL9xbFe7wO0G"
      },
      "id": "WL9xbFe7wO0G",
      "execution_count": null,
      "outputs": []
    }
  ],
  "metadata": {
    "kernelspec": {
      "display_name": "Python 3 (ipykernel)",
      "language": "python",
      "name": "python3"
    },
    "language_info": {
      "codemirror_mode": {
        "name": "ipython",
        "version": 3
      },
      "file_extension": ".py",
      "mimetype": "text/x-python",
      "name": "python",
      "nbconvert_exporter": "python",
      "pygments_lexer": "ipython3",
      "version": "3.11.7"
    },
    "colab": {
      "provenance": [],
      "include_colab_link": true
    }
  },
  "nbformat": 4,
  "nbformat_minor": 5
}